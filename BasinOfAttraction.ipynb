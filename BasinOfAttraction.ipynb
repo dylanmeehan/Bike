{
 "cells": [
  {
   "cell_type": "code",
   "execution_count": 3,
   "metadata": {},
   "outputs": [],
   "source": [
    "%matplotlib inline\n",
    "%load_ext autoreload"
   ]
  },
  {
   "cell_type": "code",
   "execution_count": 4,
   "metadata": {},
   "outputs": [],
   "source": [
    "# %load runBicycleTest.py\n",
    "import numpy as np\n",
    "import matplotlib.pyplot as plt\n",
    "import rhs\n",
    "import LinearController\n",
    "import graph\n",
    "from unpackState import *\n",
    "from tableBased import *\n",
    "import integrator\n",
    "import scipy.integrate as inter\n",
    "import time\n",
    "%autoreload 2\n",
    "\n",
    "\n",
    "# use Euler Integration to simulate a bicycle\n"
   ]
  },
  {
   "cell_type": "code",
   "execution_count": 5,
   "metadata": {},
   "outputs": [
    {
     "name": "stdout",
     "output_type": "stream",
     "text": [
      "The autoreload extension is already loaded. To reload it, use:\n",
      "  %reload_ext autoreload\n"
     ]
    }
   ],
   "source": [
    "\n",
    "\n",
    "\n",
    "import LinearController\n",
    "from StateGridPoints import *\n",
    "from runBicycleTest import *\n",
    "import time\n",
    "from valueIteration import *\n",
    "from LinearController import getLQRGains\n",
    "from datetime import datetime\n",
    "from matplotlib import colors\n",
    "import parameters\n",
    "%load_ext autoreload\n",
    "%autoreload LinearController\n",
    "%autoreload valueIteration.\n",
    "%autoreload parameters\n",
    "%autoreload 2\n"
   ]
  },
  {
   "cell_type": "code",
   "execution_count": 6,
   "metadata": {},
   "outputs": [],
   "source": [
    "def calc_basin_of_attraction(controller, name, state_table_flag, v,\n",
    "                             save = True, delta_limit = None, max_steer_rate = None):\n",
    "    #state_table_flag is for the state table we will use to make the\n",
    "    # grid points (ie, the controller may have been trained on a \n",
    "    #different one, but it will be plotted on state_table_flag)\n",
    "    \n",
    "    GridPoints = StateGridPoints()\n",
    "    GridPoints.set_state_grid_points(state_table_flag)\n",
    "\n",
    "  #with delta = 0\n",
    "\n",
    "    phi_points, phi_dot_points,  delta_points = \\\n",
    "        np.meshgrid(GridPoints.phi_grid, GridPoints.phi_dot_grid,\n",
    "                    [0.0])\n",
    "    #if change delta from 0, think carefully about how\n",
    "    #to mirror the points when plotting it\n",
    "    \n",
    "    phi_and_phi_dot_points= np.rec.fromarrays([phi_points, \n",
    "                                               phi_dot_points,\n",
    "        delta_points], \n",
    "        names='phi_points,phi_dot_points, delta_points')\n",
    "    \n",
    "    print(\"calculating basis of attraction for controller \" +\n",
    "          name)\n",
    "    success_array = np.zeros((GridPoints.len_phi_half_grid,\n",
    "      GridPoints.len_phi_dot_grid))\n",
    "     \n",
    "    for (i, phi) in enumerate(GridPoints.phi_half_grid):\n",
    "\n",
    "        print(\"phi: \" + str(phi))\n",
    "        for (j, phi_dot) in enumerate(GridPoints.phi_dot_grid):\n",
    "\n",
    "            (success, _ ) = runBicycleTest(stateflag = None, \n",
    "                                           controller = controller,\n",
    "            name = \"\", reward_flag = 14, simulation_duration= 2.0,\n",
    "            isGraphing  = False, figObject = None, isPrinting = False,\n",
    "            integrator_method = \"fixed_step_RK4\",\n",
    "            USE_LINEAR_EOM = False, timestep = 1/50,\n",
    "            starting_state3 = [phi, phi_dot, 0.0],\n",
    "            v = v, delta_limit = delta_limit, max_steer_rate = max_steer_rate)\n",
    "\n",
    "            success_array[i,j] = success\n",
    "    \n",
    "    if save:\n",
    "        np.savetxt(\"BasinOfAttraction/\"+ name \n",
    "                   + \"_BasisOfAttraction.csv\", success_array,\n",
    "           delimiter = \",\")\n",
    "\n",
    "    \n",
    "    return success_array"
   ]
  },
  {
   "cell_type": "code",
   "execution_count": 7,
   "metadata": {},
   "outputs": [],
   "source": [
    "def load_basin(name):\n",
    "    success_array = np.loadtxt(\"BasinOfAttraction/\"+ name \n",
    "                   + \"_BasisOfAttraction.csv\",\n",
    "           delimiter = \",\")\n",
    "    return success_array"
   ]
  },
  {
   "cell_type": "code",
   "execution_count": 8,
   "metadata": {},
   "outputs": [],
   "source": [
    "def calc_d_size(controller, v):\n",
    "    \n",
    "    \n",
    "    #everything is in terms of phi and phi_dot, not pixels\n",
    "    n = 200\n",
    "    phi_dot_ortho_list = np.linspace(0,0.178,n)  #start at 0 because we only want to search over half of the state space\n",
    "    phi_ortho_list = phi_dot_ortho_list*(.975/.223)\n",
    "    \n",
    "    success_array = np.zeros(n)\n",
    "    \n",
    "    for i in range(n):\n",
    "        phi_dot = phi_dot_ortho_list[i]\n",
    "        phi = phi_ortho_list[i]\n",
    "        \n",
    "        (success, _ ) = runBicycleTest(stateflag = None, \n",
    "            controller = controller,\n",
    "            name = \"\", reward_flag = 14, simulation_duration= 2.0,\n",
    "            isGraphing  = False, figObject = None, isPrinting = False,\n",
    "            integrator_method = \"fixed_step_RK4\",\n",
    "            USE_LINEAR_EOM = False, timestep = 1/50,\n",
    "            starting_state3 = [phi, phi_dot, 0.0],\n",
    "            v = v)\n",
    "\n",
    "        success_array[i] = success\n",
    "    \n",
    "    #make sure there is a boundry between falling and not falling that we can reach\n",
    "    assert(success_array[0] != success_array[-1])\n",
    "    \n",
    "    i_s = np.nonzero(0==success_array)\n",
    "   \n",
    "    i = i_s[0][0]    #why do I need to index twice, idk man. np.nonzero is wierd\n",
    "    d_phi = phi_ortho_list[i]\n",
    "    d_phi_dot = phi_dot_ortho_list[i]\n",
    "    \n",
    "    return (d_phi_dot,d_phi)\n",
    "    \n",
    "#     xpoints_ortho = xpoints_ortho + GridPoints.len_phi_dot_grid//2\n",
    "#     ypoin"
   ]
  },
  {
   "cell_type": "code",
   "execution_count": 9,
   "metadata": {},
   "outputs": [],
   "source": [
    "linear_0_5_controller = LinearController.LinearController(getLQRGains(\"lqrd_0.5m_s\"))\n",
    "linear_0_25_controller =  LinearController.LinearController(getLQRGains(\"lqrd_0.25m_s\"))\n",
    "linear_1_controller =  LinearController.LinearController(getLQRGains(\"lqrd_1m_s\"))\n",
    "linear_1_5_controller =  LinearController.LinearController(getLQRGains(\"lqrd_1.5m_s\"))\n",
    "linear_2_controller =  LinearController.LinearController(getLQRGains(\"lqrd_2m_s\"))\n",
    "linear_2_5_controller =  LinearController.LinearController(getLQRGains(\"lqrd_2.5m_s\"))\n",
    "linear_3_controller =  LinearController.LinearController(getLQRGains(\"lqrd_3m_s\"))\n",
    "linear_3_5_controller =  LinearController.LinearController(getLQRGains(\"lqrd_3.5m_s\")) \n",
    "linear_4_controller =  LinearController.LinearController(getLQRGains(\"lqrd_4m_s\"))\n",
    "\n",
    "d_0_25_lin = calc_d_size(linear_0_25_controller, v = 0.25)\n",
    "d_0_5_lin = calc_d_size(linear_0_5_controller, v = 0.5)\n",
    "d_1_lin = calc_d_size(linear_1_controller, v = 1.0)\n",
    "d_1_5_lin = calc_d_size(linear_1_5_controller, v = 1.5)\n",
    "d_2_lin = calc_d_size(linear_2_controller, v = 2.0)\n",
    "d_2_5_lin = calc_d_size(linear_2_5_controller, v = 2.5)\n",
    "d_3_lin = calc_d_size(linear_3_controller, v = 3.0)\n",
    "d_3_5_lin = calc_d_size(linear_3_5_controller, v = 3.5)  #on edge of feasibility region (phi = pi/4). Not representative\n",
    "d_4_lin = calc_d_size(linear_4_controller, v = 4.0)\n"
   ]
  },
  {
   "cell_type": "code",
   "execution_count": 13,
   "metadata": {},
   "outputs": [
    {
     "data": {
      "text/plain": [
       "(0.1744221105527638, 0.7626078824616355)"
      ]
     },
     "execution_count": 13,
     "metadata": {},
     "output_type": "execute_result"
    }
   ],
   "source": [
    "d_3_lin\n"
   ]
  },
  {
   "cell_type": "code",
   "execution_count": 175,
   "metadata": {},
   "outputs": [],
   "source": [
    "#not run on 5/17/19\n",
    "d_0_25_lin = d_0_25\n",
    "d_0_5_lin = d_0_5\n",
    "d_1_lin = d_1\n",
    "d_2_lin = d_2\n",
    "d_3_lin = d_3"
   ]
  },
  {
   "cell_type": "code",
   "execution_count": 178,
   "metadata": {},
   "outputs": [
    {
     "data": {
      "text/plain": [
       "(0.025428571428571425, 0.11117873158231902)"
      ]
     },
     "execution_count": 178,
     "metadata": {},
     "output_type": "execute_result"
    }
   ],
   "source": [
    "d_0_25_lin"
   ]
  },
  {
   "cell_type": "code",
   "execution_count": 10,
   "metadata": {},
   "outputs": [],
   "source": [
    "def calc_d_VI(v, controller_name):\n",
    "\n",
    "    #name = \"VI_r14_s6_a1\"\n",
    "    #name = \"VI_r14_a1_s16_v1_50episodes\"\n",
    "    # name = \"VI_r14_a1_s16_v0.5_100episodes\"\n",
    "    #name = \"VI_r14_a1_s16_v2_30episodes\"\n",
    "    VI_model = ValueIteration(state_grid_flag = 16, action_grid_flag = 8,\n",
    "    reward_flag = 14, Ufile = \"modelsB/\"+controller_name, use_only_continuous_actions = False,\n",
    "    remake_table = False, step_table_integration_method = \"fixed_step_RK4\",\n",
    "    USE_LINEAR_EOM = False, name = controller_name, timestep = 1/50, v = v)\n",
    "\n",
    "\n",
    "    VI_model.init_controller(use_continuous_actions = True,\n",
    "      use_continuous_state_with_discrete_actions = True,\n",
    "      controller_integration_method = \"fixed_step_RK4\",\n",
    "      use_regression_model_of_table = False)\n",
    "\n",
    "    return calc_d_size(VI_model, v = v)"
   ]
  },
  {
   "cell_type": "code",
   "execution_count": 408,
   "metadata": {},
   "outputs": [
    {
     "name": "stdout",
     "output_type": "stream",
     "text": [
      "Initializing VI model\n"
     ]
    },
    {
     "ename": "TypeError",
     "evalue": "super(type, obj): obj must be an instance or subtype of type",
     "output_type": "error",
     "traceback": [
      "\u001b[1;31m---------------------------------------------------------------------------\u001b[0m",
      "\u001b[1;31mTypeError\u001b[0m                                 Traceback (most recent call last)",
      "\u001b[1;32m<ipython-input-408-3caaa6790f7a>\u001b[0m in \u001b[0;36m<module>\u001b[1;34m\u001b[0m\n\u001b[1;32m----> 1\u001b[1;33m \u001b[0md_0_25_VI\u001b[0m \u001b[1;33m=\u001b[0m \u001b[0mcalc_d_VI\u001b[0m\u001b[1;33m(\u001b[0m\u001b[1;36m0.25\u001b[0m\u001b[1;33m,\u001b[0m \u001b[1;34m\"VI_r14_a1_s16_v0.25_100episodes\"\u001b[0m\u001b[1;33m)\u001b[0m\u001b[1;33m\u001b[0m\u001b[0m\n\u001b[0m\u001b[0;32m      2\u001b[0m \u001b[0md_0_5_VI\u001b[0m \u001b[1;33m=\u001b[0m \u001b[0mcalc_d_VI\u001b[0m\u001b[1;33m(\u001b[0m\u001b[1;36m0.5\u001b[0m\u001b[1;33m,\u001b[0m \u001b[1;34m\"VI_r14_a1_s16_v0.5_100episodes\"\u001b[0m\u001b[1;33m)\u001b[0m\u001b[1;33m\u001b[0m\u001b[0m\n\u001b[0;32m      3\u001b[0m \u001b[0md_1_VI\u001b[0m \u001b[1;33m=\u001b[0m \u001b[0mcalc_d_VI\u001b[0m\u001b[1;33m(\u001b[0m\u001b[1;36m1\u001b[0m\u001b[1;33m,\u001b[0m \u001b[1;34m\"VI_r14_a1_s16_v1_50episodes\"\u001b[0m\u001b[1;33m)\u001b[0m\u001b[1;33m\u001b[0m\u001b[0m\n",
      "\u001b[1;32m<ipython-input-174-199eda7f5052>\u001b[0m in \u001b[0;36mcalc_d_VI\u001b[1;34m(v, controller_name)\u001b[0m\n\u001b[0;32m      8\u001b[0m     \u001b[0mreward_flag\u001b[0m \u001b[1;33m=\u001b[0m \u001b[1;36m14\u001b[0m\u001b[1;33m,\u001b[0m \u001b[0mUfile\u001b[0m \u001b[1;33m=\u001b[0m \u001b[1;34m\"modelsB/\"\u001b[0m\u001b[1;33m+\u001b[0m\u001b[0mcontroller_name\u001b[0m\u001b[1;33m,\u001b[0m \u001b[0muse_only_continuous_actions\u001b[0m \u001b[1;33m=\u001b[0m \u001b[1;32mFalse\u001b[0m\u001b[1;33m,\u001b[0m\u001b[1;33m\u001b[0m\u001b[0m\n\u001b[0;32m      9\u001b[0m     \u001b[0mremake_table\u001b[0m \u001b[1;33m=\u001b[0m \u001b[1;32mFalse\u001b[0m\u001b[1;33m,\u001b[0m \u001b[0mstep_table_integration_method\u001b[0m \u001b[1;33m=\u001b[0m \u001b[1;34m\"fixed_step_RK4\"\u001b[0m\u001b[1;33m,\u001b[0m\u001b[1;33m\u001b[0m\u001b[0m\n\u001b[1;32m---> 10\u001b[1;33m     USE_LINEAR_EOM = False, name = controller_name, timestep = 1/50, v = v)\n\u001b[0m\u001b[0;32m     11\u001b[0m \u001b[1;33m\u001b[0m\u001b[0m\n\u001b[0;32m     12\u001b[0m \u001b[1;33m\u001b[0m\u001b[0m\n",
      "\u001b[1;32m~\\OneDrive\\Documents\\BikeResearch\\Bike\\valueIteration.py\u001b[0m in \u001b[0;36m__init__\u001b[1;34m(self, state_grid_flag, action_grid_flag, reward_flag, Ufile, use_only_continuous_actions, step_table_integration_method, remake_table, USE_LINEAR_EOM, name, timestep, v)\u001b[0m\n\u001b[0;32m     34\u001b[0m     \u001b[0minit_t1\u001b[0m \u001b[1;33m=\u001b[0m \u001b[0mtime\u001b[0m\u001b[1;33m.\u001b[0m\u001b[0mtime\u001b[0m\u001b[1;33m(\u001b[0m\u001b[1;33m)\u001b[0m\u001b[1;33m\u001b[0m\u001b[0m\n\u001b[0;32m     35\u001b[0m \u001b[1;33m\u001b[0m\u001b[0m\n\u001b[1;32m---> 36\u001b[1;33m     super(ValueIteration, self).__init__(state_grid_flag, action_grid_flag,\n\u001b[0m\u001b[0;32m     37\u001b[0m       reward_flag, USE_LINEAR_EOM, timestep = timestep)\n\u001b[0;32m     38\u001b[0m \u001b[1;33m\u001b[0m\u001b[0m\n",
      "\u001b[1;31mTypeError\u001b[0m: super(type, obj): obj must be an instance or subtype of type"
     ]
    }
   ],
   "source": [
    "d_0_25_VI = calc_d_VI(0.25, \"VI_r14_a1_s16_v0.25_100episodes\")\n",
    "d_0_5_VI = calc_d_VI(0.5, \"VI_r14_a1_s16_v0.5_100episodes\")\n",
    "d_1_VI = calc_d_VI(1, \"VI_r14_a1_s16_v1_50episodes\")\n"
   ]
  },
  {
   "cell_type": "code",
   "execution_count": 42,
   "metadata": {},
   "outputs": [
    {
     "ename": "NameError",
     "evalue": "name 'calc_d_VI' is not defined",
     "output_type": "error",
     "traceback": [
      "\u001b[1;31m---------------------------------------------------------------------------\u001b[0m",
      "\u001b[1;31mNameError\u001b[0m                                 Traceback (most recent call last)",
      "\u001b[1;32m<ipython-input-42-011a269b7103>\u001b[0m in \u001b[0;36m<module>\u001b[1;34m\u001b[0m\n\u001b[1;32m----> 1\u001b[1;33m \u001b[0md_2_VI_limited\u001b[0m \u001b[1;33m=\u001b[0m \u001b[0mcalc_d_VI\u001b[0m\u001b[1;33m(\u001b[0m\u001b[1;36m2\u001b[0m\u001b[1;33m,\u001b[0m\u001b[1;34m\"VI_r14_a9_s16_2_v2_g95_limB_300episodes_reward_table\"\u001b[0m\u001b[1;33m)\u001b[0m\u001b[1;33m\u001b[0m\u001b[0m\n\u001b[0m",
      "\u001b[1;31mNameError\u001b[0m: name 'calc_d_VI' is not defined"
     ]
    }
   ],
   "source": [
    "d_2_VI_limited = calc_d_VI(2,\"VI_r14_a9_s16_2_v2_g95_limB_300episodes_reward_table\")"
   ]
  },
  {
   "cell_type": "code",
   "execution_count": 35,
   "metadata": {},
   "outputs": [],
   "source": [
    "d_2_lin =  calc_d_size(linear_2_controller, v = 2.0)"
   ]
  },
  {
   "cell_type": "code",
   "execution_count": 365,
   "metadata": {},
   "outputs": [],
   "source": [
    "d_0_25_old = d_0_25\n",
    "d_0_5_old = d_0_5\n",
    "d_1_old = d_1\n",
    "d_2_old = d_2\n",
    "d_3_old = d_3\n",
    "d_vals_list_old = [d_0_25_old, d_0_5_old, d_1_old, d_2_old, d_3_old]"
   ]
  },
  {
   "cell_type": "code",
   "execution_count": 447,
   "metadata": {},
   "outputs": [
    {
     "name": "stdout",
     "output_type": "stream",
     "text": [
      "1.0 1.0\n",
      "1.0 1.0\n",
      "[2.0, 2.0] [1.41421356 1.41421356]\n",
      "r_squared =  0.0\n"
     ]
    },
    {
     "name": "stderr",
     "output_type": "stream",
     "text": [
      "C:\\Users\\dylan\\Miniconda3\\lib\\site-packages\\scipy\\stats\\_stats_mstats_common.py:107: RuntimeWarning: invalid value encountered in double_scalars\n",
      "  slope = r_num / ssxm\n"
     ]
    },
    {
     "data": {
      "image/png": "[encoded data removed]",
      "text/plain": [
       "<Figure size 432x288 with 1 Axes>"
      ]
     },
     "metadata": {
      "needs_background": "light"
     },
     "output_type": "display_data"
    },
    {
     "data": {
      "image/png": "[encoded data removed]",
      "text/plain": [
       "<Figure size 432x288 with 1 Axes>"
      ]
     },
     "metadata": {
      "needs_background": "light"
     },
     "output_type": "display_data"
    }
   ],
   "source": [
    "import scipy.optimize as optimization\n",
    "import scipy.stats as stats\n",
    "\n",
    "\n",
    "\n",
    "#plot different d values vs speed\n",
    "d_vals_list = [d_0_25_lin, d_0_5_lin, d_1_lin, d_1_5_lin, d_2_lin, d_2_5_lin, d_3_lin]\n",
    "speeds = [0.25, 0.5, 1, 1.5, 2, 2.5, 3]\n",
    "n = len(d_vals_list)\n",
    "\n",
    "d_mags = np.zeros(n)\n",
    "d_phis = np.zeros(n)\n",
    "d_mags_squared = np.zeros(n)\n",
    "d_mags_unscaled = np.zeros(n)\n",
    "\n",
    "for (i, d_vals) in enumerate(d_vals_list):\n",
    "    #dividing by things normalizes everything\n",
    "    phi_dot_dimensionless = d_vals[0]/d_vals_list[-1][0]\n",
    "    phi_dimensionless = d_vals[1]/d_vals_list[-1][1]\n",
    "    print(phi_dot_dimensionless, phi_dimensionless)\n",
    "    d_mags[i] = np.sqrt(( phi_dot_dimensionless)**2 + (phi_dimensionless)**2)\n",
    "    d_mags_unscaled[i] = np.sqrt(( d_vals[0])**2 + (d_vals[1])**2)\n",
    "    d_phis[i] = d_vals[1]/d_vals_list[-1][1]\n",
    "    \n",
    "    ##try squareing dmag to find if we have a sqrt relationship\n",
    "    d_mags_squared[i] = d_mags[i]**2;\n",
    "    \n",
    "\n",
    "print(speeds, d_mags)\n",
    "\n",
    "\n",
    "## do least squares fit\n",
    "def func(x, b, m):\n",
    "    return m*x+b\n",
    "slope, intercept, r_value, p_value, std_err = stats.linregress(speeds, d_mags_squared)\n",
    "# print(\"linregress\", slope, intercept)\n",
    "y_est = np.zeros(n)\n",
    "for (i,v) in enumerate(speeds):\n",
    "    y_est[i] = slope*v + intercept\n",
    "print(\"r_squared = \", r_value**2)\n",
    "\n",
    "#plot magnitude without squaring it\n",
    "fig, ax = plt.subplots(1,1)\n",
    "ax.plot(speeds, d_mags, \"-o\")\n",
    "#ax.plot(speeds, d_phis,\"o\")\n",
    "#ax.plot(speeds, d_mags_unscaled, \"o\")\n",
    "ax.set_title(\"width of Basin sqaured (d) vs speed, linear controllers, dimensionless\")\n",
    "ax.set_ylabel(\"width (d)\")\n",
    "ax.set_xlabel(\"speed [m/s]\")\n",
    "ax.set_ylim([0,1.6])\n",
    "ax.set_xlim([0,3.2])\n",
    "\n",
    "\n",
    "fig, ax = plt.subplots(1,1)\n",
    "ax.plot(speeds, d_mags_squared, \"o\")\n",
    "# ax.plot(speeds, y_est)\n",
    "#ax.plot(speeds, d_phis,\"o\")\n",
    "#ax.plot(speeds, d_mags_unscaled, \"o\")\n",
    "ax.set_title(\"width of Basin sqaured (d^2) vs speed, linear controllers, dimensionless\")\n",
    "ax.set_ylabel(\"width (d^2)\")\n",
    "ax.set_xlabel(\"speed [m/s]\")\n",
    "ax.set_ylim([0,2.5])\n",
    "ax.set_xlim([0,3.2])\n",
    "#ax.plot(speeds, d_phis)\n",
    "\n",
    "plt.show()"
   ]
  },
  {
   "cell_type": "code",
   "execution_count": 451,
   "metadata": {},
   "outputs": [
    {
     "name": "stdout",
     "output_type": "stream",
     "text": [
      "(0.04114572864321608, 0.17989724406787297)\n",
      "(0.038462311557788946, 0.16816481510692477)\n"
     ]
    }
   ],
   "source": [
    "print(\"d_VI:\", d_2_VI_limited)\n",
    "print(\"d_lin:\",d_2_lin_limited)\n",
    "mag_VI = np.sqrt(d_2_VI_limited[0]**2 + d_2_VI_limited[1]**2)\n",
    "mag_lin = np.sqrt(d_2_lin_limited[0]**2 + d_2_lin_limited[1]**2)\n"
   ]
  },
  {
   "cell_type": "code",
   "execution_count": 54,
   "metadata": {},
   "outputs": [],
   "source": [
    "def plot_basin_from_arrays(success_arrays, names, state_table_flag, d_vals_list = None):\n",
    "    #success_arrays is a list of arrays of successes each generated\n",
    "    #with a call to 'calc_basin_of_attraction'\n",
    "    n = len(success_arrays)\n",
    "    \n",
    "    fig=plt.figure(figsize=(18, 10*n), dpi= 80, facecolor='w', edgecolor='k')\n",
    "    axs = fig.subplots(n,1)\n",
    "    \n",
    "    GridPoints = StateGridPoints()\n",
    "    GridPoints.set_state_grid_points(state_table_flag)\n",
    "    \n",
    "    #scale multiplier is the difference between the phi and phi_dot scales\n",
    "    if state_table_flag == 16.2:\n",
    "        scale_multiplier = 2\n",
    "        phi_scale = 50\n",
    "        phi_dot_scale = 25\n",
    "    elif state_table_flag == 16.3:\n",
    "        scale_multiplier = 1\n",
    "        phi_scale = 25\n",
    "        phi_dot_scale = 25\n",
    "    \n",
    "    difference_array = np.zeros((GridPoints.len_phi_grid, GridPoints.len_phi_dot_grid))\n",
    "    \n",
    "    ##### get line of constant energy? to plot (eigvector of A)\n",
    "    xpoints = np.linspace(-GridPoints.len_phi_dot_grid//2, \n",
    "                          GridPoints.len_phi_dot_grid//2,51)\n",
    "    h = 0.516; g = 9.81;\n",
    "    phi_dot_points = xpoints / phi_dot_scale;\n",
    "    ypoints = np.arccos(1 - h/(2*g)*phi_dot_points**2)* (-np.sign(xpoints))*(phi_scale)\n",
    "#     ypoints_linear = xpoints*(-0.223/0.975)*(scale_multiplier) #scale by 2 since phi_dot grid has 2x the spacing of phi grid\n",
    "    #magic numbers from eigenvector of A w/ negative eigenvalue\n",
    "    # phi = - sqrt(h/g) * phi_dot\n",
    "#     ypoints = np.interp(ypoints_unscaled, \n",
    "#            (ypoints_unscaled.min(), ypoints_unscaled.max()),\n",
    "#            (GridPoints.len_phi_half_grid*-1, \n",
    "#             GridPoints.len_phi_half_grid))\n",
    "    \n",
    "    #more origin to center\n",
    "    xpoints = xpoints + GridPoints.len_phi_dot_grid//2\n",
    "    ypoints = ypoints + GridPoints.len_phi_grid//2\n",
    "#     ypoints_linear = ypoints_linear + GridPoints.len_phi_grid//2\n",
    "    \n",
    "\n",
    "    #test plotting orthogonal line\n",
    "#     xpoints_ortho = np.linspace(-0.178, 0.178,31)*20 #since scale is 0.4\n",
    "#     ypoints_ortho = xpoints_ortho*(.975/.223)*scale_multiplier\n",
    "    \n",
    "#     xpoints_ortho = xpoints_ortho + GridPoints.len_phi_dot_grid//2\n",
    "#     ypoints_ortho = ypoints_ortho + GridPoints.len_phi_grid//2\n",
    "    \n",
    "    #####\n",
    "    \n",
    "    \n",
    "    print(\"Success Graphs:\")\n",
    "    print(\"Red= failure, Green = success\")\n",
    "    for idx in range(n):\n",
    "           \n",
    "        ax1 = axs[idx]\n",
    "    \n",
    "        success_array = success_arrays[idx]\n",
    "        #print(np.shape(success_array))\n",
    "        \n",
    "        d_vals = d_vals_list[idx]\n",
    "        #define edges to plot basin of attraction\n",
    "        phi_offset = d_vals[1]\n",
    "        phi_dot_offset = d_vals[0]\n",
    "        x_boundry_upper = xpoints - phi_dot_offset*phi_dot_scale\n",
    "        y_boundry_upper = ypoints - phi_offset*phi_scale\n",
    "        x_boundry_lower = xpoints + phi_dot_offset*phi_dot_scale\n",
    "        y_boundry_lower = ypoints + phi_offset*phi_scale\n",
    "        \n",
    "#         x_boundry_upper_lin = xpoints - phi_dot_offset*phi_dot_scale\n",
    "#         y_boundry_upper_lin = ypoints_linear - phi_offset*phi_scale\n",
    "#         x_boundry_lower_lin = xpoints + phi_dot_offset*phi_dot_scale\n",
    "#         y_boundry_lower_lin = ypoints_linear + phi_offset*phi_scale\n",
    "        \n",
    "        success_array = np.concatenate(\n",
    "            (np.flip(success_array[1:,:],axis = (0,1)),\n",
    "                     success_array[:,:]),\n",
    "             axis = 0)\n",
    "        #print(np.shape(success_array))       \n",
    "        #define colormap\n",
    "        cmap = colors.ListedColormap(['red','green'])\n",
    "        bounds = [-0.5,0.5 ,1.5]\n",
    "        norm= colors.BoundaryNorm(bounds, cmap.N)\n",
    "        \n",
    "        if idx==0:\n",
    "            difference_array += success_array\n",
    "        elif idx==1:\n",
    "            difference_array -= success_array\n",
    "        else:\n",
    "            print(\"** Difference Array not computed for index \" + str(idx))\n",
    "\n",
    "        max_phi = GridPoints.phi_grid[-1]\n",
    "        max_phi_dot = GridPoints.phi_dot_grid[-1]\n",
    "        im1 = ax1.imshow(success_array, cmap=cmap, norm = norm)\n",
    "                        #extent = [-max_phi_dot, max_phi_dot,\n",
    "                        #         -max_phi, max_phi] )\n",
    "        ax1.set_title(str(names[idx])+\" Basin of Attraction (delta = 0)\")\n",
    "        ax1.set_ylabel(\"lean [rad]\")\n",
    "        ax1.set_xlabel(\"lean rate [rad/s]\")\n",
    "        ax1.set_yticks(np.arange(GridPoints.len_phi_grid))\n",
    "        ax1.set_xticks(np.arange(GridPoints.len_phi_dot_grid))\n",
    "        ax1.set_yticklabels(np.around(GridPoints.phi_grid, decimals=2))\n",
    "        ax1.set_xticklabels(np.around(GridPoints.phi_dot_grid, decimals = 2))\n",
    "        \n",
    "        #make labels prettier\n",
    "        for label in ax1.xaxis.get_ticklabels():\n",
    "            label.set_visible(False)\n",
    "        for label in ax1.xaxis.get_ticklabels()[::4]:\n",
    "            label.set_visible(True)\n",
    "        for label in ax1.yaxis.get_ticklabels()[::2]:\n",
    "            label.set_visible(False)\n",
    "        \n",
    "        ax1.plot(xpoints, ypoints, 'w', linewidth=4.0)    \n",
    "        ax1.plot(xpoints, ypoints_linear, 'k')\n",
    "        ax1.plot( x_boundry_upper,  y_boundry_upper,'w')\n",
    "        ax1.plot( x_boundry_lower,  y_boundry_lower,'w')\n",
    "#         ax1.plot( x_boundry_upper_lin,  y_boundry_upper_lin,'k')\n",
    "#         ax1.plot( x_boundry_lower_lin,  y_boundry_lower_lin,'k')\n",
    "        \n",
    "#         ax1.plot(xpoints_ortho, ypoints_ortho, '.c')  \n",
    "        \n",
    "    fig2=plt.figure(figsize=(18, 16), dpi= 80, facecolor='w', edgecolor='k')\n",
    "    ax2 = fig2.subplots(1,1)\n",
    "    #plot differences\n",
    "    \n",
    "    print(\"Differences Graph: \")\n",
    "    colors_to_plot = ['yellow','white','purple']\n",
    "    print(colors_to_plot[0]+\": \"+names[1]+\" success only\")\n",
    "    print(colors_to_plot[1]+\": both controllers same\")\n",
    "    print(colors_to_plot[2]+\": \"+names[0]+\" success only\")\n",
    "    #define colormap\n",
    "    cmap = colors.ListedColormap(colors_to_plot)\n",
    "    bounds = [-1.5, -.5, .5 ,1.5]\n",
    "    norm= colors.BoundaryNorm(bounds, cmap.N)\n",
    "    \n",
    "    im2 = ax2.imshow(difference_array,cmap = cmap, norm=norm)\n",
    "    ax2.set_title(\" Difference between \" + str(names[0])+ \" and \" + str(names[1]))\n",
    "    ax2.set_ylabel(\"lean [rad]\")\n",
    "    ax2.set_xlabel(\"lean rate [rad/s]\")\n",
    "    ax2.set_yticks(np.arange(GridPoints.len_phi_grid))\n",
    "    ax2.set_xticks(np.arange(GridPoints.len_phi_dot_grid))\n",
    "    ax2.set_yticklabels(np.around(GridPoints.phi_grid, decimals=2))\n",
    "    ax2.set_xticklabels(np.around(GridPoints.phi_dot_grid, decimals = 2))\n",
    "    \n",
    "      #make labels prettier\n",
    "    for label in ax2.xaxis.get_ticklabels():\n",
    "        label.set_visible(False)\n",
    "    for label in ax2.xaxis.get_ticklabels()[::4]:\n",
    "        label.set_visible(True)\n",
    "    for label in ax2.yaxis.get_ticklabels()[::2]:\n",
    "        label.set_visible(False)\n",
    "    \n",
    "    ax2.plot(xpoints, ypoints, 'b')    \n",
    "        \n",
    "    plt.show()"
   ]
  },
  {
   "cell_type": "code",
   "execution_count": 12,
   "metadata": {},
   "outputs": [],
   "source": [
    "name1 = \"linear_0_5\"\n",
    "name2 = \"linear_0_25\"\n",
    "state_table_flag = 16.3"
   ]
  },
  {
   "cell_type": "code",
   "execution_count": 263,
   "metadata": {},
   "outputs": [
    {
     "name": "stdout",
     "output_type": "stream",
     "text": [
      "Using State Grid Flag 16.3\n",
      "calculating basis of attraction for controller linear_0_5_lim_4_6\n",
      "phi: 0.0\n",
      "phi: 0.04\n",
      "phi: 0.08\n",
      "phi: 0.12\n",
      "phi: 0.16\n",
      "phi: 0.2\n",
      "phi: 0.24000000000000002\n",
      "phi: 0.27999999999999997\n",
      "phi: 0.32\n",
      "phi: 0.36\n",
      "phi: 0.39999999999999997\n",
      "phi: 0.44\n",
      "phi: 0.48\n",
      "phi: 0.52\n",
      "phi: 0.56\n",
      "phi: 0.6000000000000001\n",
      "phi: 0.64\n",
      "phi: 0.68\n",
      "phi: 0.7200000000000001\n",
      "phi: 0.76\n"
     ]
    }
   ],
   "source": [
    "#calc basin for 0.5m/s\n",
    "# linear_0_5_deldeot_5_SA\n",
    "linear_0_5_deldeot_4_6_SA = calc_basin_of_attraction(\n",
    "    controller = LinearController.LinearController(\n",
    "        getLQRGains(\"lqrd_0.5m_s\")),\n",
    "    name = \"linear_0_5_lim_4_6\", \n",
    "    state_table_flag = state_table_flag, \n",
    "    v = 0.5,\n",
    "    save = True,\n",
    "    max_steer_rate = 4.6)"
   ]
  },
  {
   "cell_type": "code",
   "execution_count": 22,
   "metadata": {},
   "outputs": [
    {
     "name": "stdout",
     "output_type": "stream",
     "text": [
      "Using State Grid Flag 16.3\n",
      "calculating basis of attraction for controller lin_2\n",
      "phi: 0.0\n",
      "phi: 0.04\n",
      "phi: 0.08\n",
      "phi: 0.12\n",
      "phi: 0.16\n",
      "phi: 0.2\n",
      "phi: 0.24000000000000002\n",
      "phi: 0.27999999999999997\n",
      "phi: 0.32\n",
      "phi: 0.36\n",
      "phi: 0.39999999999999997\n",
      "phi: 0.44\n",
      "phi: 0.48\n",
      "phi: 0.52\n",
      "phi: 0.56\n",
      "phi: 0.6000000000000001\n",
      "phi: 0.64\n",
      "phi: 0.68\n",
      "phi: 0.7200000000000001\n",
      "phi: 0.76\n"
     ]
    }
   ],
   "source": [
    "#calc basin for 0.25m/s\n",
    "\n",
    "linear_2_SA = calc_basin_of_attraction(\n",
    "    controller = LinearController.LinearController(\n",
    "        getLQRGains(\"lqrd_2m_s\")),\n",
    "    name = \"lin_2\", \n",
    "    state_table_flag = state_table_flag, \n",
    "    v = 2.0,\n",
    "    save = True)"
   ]
  },
  {
   "cell_type": "code",
   "execution_count": 151,
   "metadata": {
    "collapsed": true
   },
   "outputs": [
    {
     "name": "stdout",
     "output_type": "stream",
     "text": [
      "Using State Grid Flag 16.3\n",
      "calculating basis of attraction for controller linear_0_25\n",
      "phi: 0.0\n",
      "phi: 0.04\n",
      "phi: 0.08\n",
      "phi: 0.12\n",
      "phi: 0.16\n",
      "phi: 0.2\n",
      "phi: 0.24000000000000002\n",
      "phi: 0.27999999999999997\n",
      "phi: 0.32\n",
      "phi: 0.36\n",
      "phi: 0.39999999999999997\n",
      "phi: 0.44\n",
      "phi: 0.48\n",
      "phi: 0.52\n",
      "phi: 0.56\n",
      "phi: 0.6000000000000001\n",
      "phi: 0.64\n",
      "phi: 0.68\n",
      "phi: 0.7200000000000001\n",
      "phi: 0.76\n",
      "Using State Grid Flag 16.3\n",
      "calculating basis of attraction for controller linear_0_25\n",
      "phi: 0.0\n",
      "phi: 0.04\n",
      "phi: 0.08\n",
      "phi: 0.12\n",
      "phi: 0.16\n",
      "phi: 0.2\n",
      "phi: 0.24000000000000002\n",
      "phi: 0.27999999999999997\n",
      "phi: 0.32\n",
      "phi: 0.36\n",
      "phi: 0.39999999999999997\n",
      "phi: 0.44\n",
      "phi: 0.48\n",
      "phi: 0.52\n",
      "phi: 0.56\n",
      "phi: 0.6000000000000001\n",
      "phi: 0.64\n",
      "phi: 0.68\n",
      "phi: 0.7200000000000001\n",
      "phi: 0.76\n",
      "Using State Grid Flag 16.3\n",
      "calculating basis of attraction for controller linear_0_25\n",
      "phi: 0.0\n",
      "phi: 0.04\n",
      "phi: 0.08\n",
      "phi: 0.12\n",
      "phi: 0.16\n",
      "phi: 0.2\n",
      "phi: 0.24000000000000002\n",
      "phi: 0.27999999999999997\n",
      "phi: 0.32\n",
      "phi: 0.36\n",
      "phi: 0.39999999999999997\n",
      "phi: 0.44\n",
      "phi: 0.48\n",
      "phi: 0.52\n",
      "phi: 0.56\n",
      "phi: 0.6000000000000001\n",
      "phi: 0.64\n",
      "phi: 0.68\n",
      "phi: 0.7200000000000001\n",
      "phi: 0.76\n"
     ]
    }
   ],
   "source": [
    "linear_0_1_SA = calc_basin_of_attraction(\n",
    "    controller = LinearController.LinearController(\n",
    "        getLQRGains(\"lqrd_1m_s\")),\n",
    "    name = name2, \n",
    "    state_table_flag = state_table_flag, \n",
    "    v = 1,\n",
    "    save = True)\n",
    "\n",
    "linear_0_2_SA = calc_basin_of_attraction(\n",
    "    controller = LinearController.LinearController(\n",
    "        getLQRGains(\"lqrd_2m_s\")),\n",
    "    name = name2, \n",
    "    state_table_flag = state_table_flag, \n",
    "    v = 2,\n",
    "    save = True)\n",
    "\n",
    "linear_0_3_SA = calc_basin_of_attraction(\n",
    "    controller = LinearController.LinearController(\n",
    "        getLQRGains(\"lqrd_3m_s\")),\n",
    "    name = name2, \n",
    "    state_table_flag = state_table_flag, \n",
    "    v = 3,\n",
    "    save = True)"
   ]
  },
  {
   "cell_type": "code",
   "execution_count": 27,
   "metadata": {},
   "outputs": [],
   "source": [
    "def calc_VI_BoA(v, controller_name, SA_name, state_table_flag):\n",
    "\n",
    "    #name = \"VI_r14_s6_a1\"\n",
    "    #name = \"VI_r14_a1_s16_v1_50episodes\"\n",
    "    # name = \"VI_r14_a1_s16_v0.5_100episodes\"\n",
    "    #name = \"VI_r14_a1_s16_v2_30episodes\"\n",
    "    VI_model = ValueIteration(state_grid_flag = 16, action_grid_flag = 8, #16, 8\n",
    "    reward_flag = 14, Ufile = \"modelsB/\"+controller_name, use_only_continuous_actions = False,\n",
    "    remake_table = False, step_table_integration_method = \"fixed_step_RK4\",\n",
    "    USE_LINEAR_EOM = False, name = controller_name, timestep = 1/50, v = v)\n",
    "\n",
    "\n",
    "    VI_model.init_controller(use_continuous_actions = True,\n",
    "      use_continuous_state_with_discrete_actions = True,\n",
    "      controller_integration_method = \"fixed_step_RK4\",\n",
    "      use_regression_model_of_table = False)\n",
    "\n",
    "    VI_SA = calc_basin_of_attraction(\n",
    "        controller = VI_model,\n",
    "        name = SA_name, \n",
    "        state_table_flag = state_table_flag, \n",
    "        v = v,\n",
    "        save = True)\n",
    "    \n",
    "    return VI_SA"
   ]
  },
  {
   "cell_type": "code",
   "execution_count": 165,
   "metadata": {
    "collapsed": true
   },
   "outputs": [
    {
     "name": "stdout",
     "output_type": "stream",
     "text": [
      "Initializing VI model\n",
      "Using State Grid Flag 16\n",
      "Loading step_table modelsB/VI_r14_a1_s16_v0.5_100episodes.csv from file\n",
      "Initialized VI Model modelsB/VI_r14_a1_s16_v0.5_100episodes.csv in 204.39619898796082sec\n",
      "Using State Grid Flag 16.3\n",
      "calculating basis of attraction for controller VI_0_5\n",
      "phi: 0.0\n",
      "phi: 0.04\n",
      "phi: 0.08\n",
      "phi: 0.12\n",
      "phi: 0.16\n",
      "phi: 0.2\n",
      "phi: 0.24000000000000002\n",
      "phi: 0.27999999999999997\n",
      "phi: 0.32\n",
      "phi: 0.36\n",
      "phi: 0.39999999999999997\n",
      "phi: 0.44\n",
      "phi: 0.48\n",
      "phi: 0.52\n",
      "phi: 0.56\n",
      "phi: 0.6000000000000001\n",
      "phi: 0.64\n",
      "phi: 0.68\n",
      "phi: 0.7200000000000001\n",
      "phi: 0.76\n"
     ]
    }
   ],
   "source": [
    "VI_0_5_SA = calc_VI_BoA(v=0.5, controller_name = \"VI_r14_a1_s16_v0.5_100episodes\",\n",
    "                        SA_name = \"VI_0_5\", state_table_flag = state_table_flag)"
   ]
  },
  {
   "cell_type": "code",
   "execution_count": 166,
   "metadata": {
    "collapsed": true
   },
   "outputs": [
    {
     "name": "stdout",
     "output_type": "stream",
     "text": [
      "Initializing VI model\n",
      "Using State Grid Flag 16\n",
      "Loading step_table modelsB/VI_r14_a1_s16_v0.25_100episodes.csv from file\n",
      "Initialized VI Model modelsB/VI_r14_a1_s16_v0.25_100episodes.csv in 181.79288864135742sec\n",
      "Using State Grid Flag 16.3\n",
      "calculating basis of attraction for controller VI_0_25\n",
      "phi: 0.0\n",
      "phi: 0.04\n",
      "phi: 0.08\n",
      "phi: 0.12\n",
      "phi: 0.16\n",
      "phi: 0.2\n",
      "phi: 0.24000000000000002\n",
      "phi: 0.27999999999999997\n",
      "phi: 0.32\n",
      "phi: 0.36\n",
      "phi: 0.39999999999999997\n",
      "phi: 0.44\n",
      "phi: 0.48\n",
      "phi: 0.52\n",
      "phi: 0.56\n",
      "phi: 0.6000000000000001\n",
      "phi: 0.64\n",
      "phi: 0.68\n",
      "phi: 0.7200000000000001\n",
      "phi: 0.76\n"
     ]
    }
   ],
   "source": [
    "VI_0_25_SA = calc_VI_BoA(v=0.25, controller_name = \"VI_r14_a1_s16_v0.25_100episodes\",\n",
    "                        SA_name = \"VI_0_25\", state_table_flag = state_table_flag)"
   ]
  },
  {
   "cell_type": "code",
   "execution_count": 25,
   "metadata": {},
   "outputs": [
    {
     "name": "stdout",
     "output_type": "stream",
     "text": [
      "Initializing VI model\n",
      "Using State Grid Flag 16.2\n",
      "Loading step_table modelsB/VI_r14_a8_s16_2_v1_g95_limB_300episodes.csv from file\n",
      "Initialized VI Model modelsB/VI_r14_a8_s16_2_v1_g95_limB_300episodes.csv in 148.1028757095337sec\n",
      "Using State Grid Flag 16.3\n",
      "calculating basis of attraction for controller VI_1\n",
      "phi: 0.0\n",
      "phi: 0.04\n",
      "phi: 0.08\n",
      "phi: 0.12\n",
      "phi: 0.16\n",
      "phi: 0.2\n",
      "phi: 0.24000000000000002\n",
      "phi: 0.27999999999999997\n",
      "phi: 0.32\n",
      "phi: 0.36\n",
      "phi: 0.39999999999999997\n",
      "phi: 0.44\n",
      "phi: 0.48\n",
      "phi: 0.52\n",
      "phi: 0.56\n",
      "phi: 0.6000000000000001\n",
      "phi: 0.64\n",
      "phi: 0.68\n",
      "phi: 0.7200000000000001\n",
      "phi: 0.76\n"
     ]
    }
   ],
   "source": [
    "VI_1_SA = calc_VI_BoA(v=1.0, controller_name = \"VI_r14_a8_s16_2_v1_g95_limB_300episodes\",\n",
    "                        SA_name = \"VI_1\", state_table_flag = state_table_flag)"
   ]
  },
  {
   "cell_type": "code",
   "execution_count": 20,
   "metadata": {},
   "outputs": [
    {
     "name": "stdout",
     "output_type": "stream",
     "text": [
      "Initializing VI model\n",
      "Using State Grid Flag 16.2\n",
      "Loading step_table modelsB/VI_r14_a9_s16_2_v2_g95_limB_300episodes.csv from file\n",
      "Initialized VI Model modelsB/VI_r14_a9_s16_2_v2_g95_limB_300episodes.csv in 222.1518235206604sec\n",
      "Using State Grid Flag 16.3\n",
      "calculating basis of attraction for controller VI_2\n",
      "phi: 0.0\n",
      "phi: 0.04\n",
      "phi: 0.08\n",
      "phi: 0.12\n",
      "phi: 0.16\n",
      "phi: 0.2\n",
      "phi: 0.24000000000000002\n",
      "phi: 0.27999999999999997\n",
      "phi: 0.32\n",
      "phi: 0.36\n",
      "phi: 0.39999999999999997\n",
      "phi: 0.44\n",
      "phi: 0.48\n",
      "phi: 0.52\n",
      "phi: 0.56\n",
      "phi: 0.6000000000000001\n",
      "phi: 0.64\n",
      "phi: 0.68\n",
      "phi: 0.7200000000000001\n",
      "phi: 0.76\n"
     ]
    }
   ],
   "source": [
    "VI_2_SA = calc_VI_BoA(v=2.0, controller_name = \"VI_r14_a9_s16_2_v2_g95_limB_300episodes\",\n",
    "                        SA_name = \"VI_2\", state_table_flag = state_table_flag)"
   ]
  },
  {
   "cell_type": "code",
   "execution_count": 29,
   "metadata": {
    "scrolled": true
   },
   "outputs": [
    {
     "name": "stdout",
     "output_type": "stream",
     "text": [
      "Initializing VI model\n",
      "Using State Grid Flag 16\n",
      "Loading step_table modelsB/VI_r14_a8_s16_v0_25_g95_limB_300episodes.csv from file\n",
      "Initialized VI Model modelsB/VI_r14_a8_s16_v0_25_g95_limB_300episodes.csv in 85.98202800750732sec\n",
      "Using State Grid Flag 16.3\n",
      "calculating basis of attraction for controller VI_3\n",
      "phi: 0.0\n",
      "phi: 0.04\n",
      "phi: 0.08\n",
      "phi: 0.12\n",
      "phi: 0.16\n",
      "phi: 0.2\n",
      "phi: 0.24000000000000002\n",
      "phi: 0.27999999999999997\n",
      "phi: 0.32\n",
      "phi: 0.36\n",
      "phi: 0.39999999999999997\n",
      "phi: 0.44\n",
      "phi: 0.48\n",
      "phi: 0.52\n",
      "phi: 0.56\n",
      "phi: 0.6000000000000001\n",
      "phi: 0.64\n",
      "phi: 0.68\n",
      "phi: 0.7200000000000001\n",
      "phi: 0.76\n",
      "Initializing VI model\n",
      "Using State Grid Flag 16\n",
      "Loading step_table modelsB/VI_r14_a8_s16_v0_5_g95_limB_300episodes.csv from file\n",
      "Initialized VI Model modelsB/VI_r14_a8_s16_v0_5_g95_limB_300episodes.csv in 90.4999611377716sec\n",
      "Using State Grid Flag 16.3\n",
      "calculating basis of attraction for controller VI_3\n",
      "phi: 0.0\n",
      "phi: 0.04\n",
      "phi: 0.08\n",
      "phi: 0.12\n",
      "phi: 0.16\n",
      "phi: 0.2\n",
      "phi: 0.24000000000000002\n",
      "phi: 0.27999999999999997\n",
      "phi: 0.32\n",
      "phi: 0.36\n",
      "phi: 0.39999999999999997\n",
      "phi: 0.44\n",
      "phi: 0.48\n",
      "phi: 0.52\n",
      "phi: 0.56\n",
      "phi: 0.6000000000000001\n",
      "phi: 0.64\n",
      "phi: 0.68\n",
      "phi: 0.7200000000000001\n",
      "phi: 0.76\n",
      "Initializing VI model\n",
      "Using State Grid Flag 16\n",
      "Loading step_table modelsB/VI_r14_a8_s16_v0_75_g95_limB_300episodes.csv from file\n",
      "Initialized VI Model modelsB/VI_r14_a8_s16_v0_75_g95_limB_300episodes.csv in 87.4690535068512sec\n",
      "Using State Grid Flag 16.3\n",
      "calculating basis of attraction for controller VI_3\n",
      "phi: 0.0\n",
      "phi: 0.04\n",
      "phi: 0.08\n",
      "phi: 0.12\n",
      "phi: 0.16\n",
      "phi: 0.2\n",
      "phi: 0.24000000000000002\n",
      "phi: 0.27999999999999997\n",
      "phi: 0.32\n",
      "phi: 0.36\n",
      "phi: 0.39999999999999997\n",
      "phi: 0.44\n",
      "phi: 0.48\n",
      "phi: 0.52\n",
      "phi: 0.56\n",
      "phi: 0.6000000000000001\n",
      "phi: 0.64\n",
      "phi: 0.68\n",
      "phi: 0.7200000000000001\n",
      "phi: 0.76\n",
      "Initializing VI model\n",
      "Using State Grid Flag 16\n",
      "Loading step_table modelsB/VI_r14_a8_s16_v1_g95_limB_300episodes.csv from file\n",
      "Initialized VI Model modelsB/VI_r14_a8_s16_v1_g95_limB_300episodes.csv in 86.63827323913574sec\n",
      "Using State Grid Flag 16.3\n",
      "calculating basis of attraction for controller VI_3\n",
      "phi: 0.0\n",
      "phi: 0.04\n",
      "phi: 0.08\n",
      "phi: 0.12\n",
      "phi: 0.16\n",
      "phi: 0.2\n",
      "phi: 0.24000000000000002\n",
      "phi: 0.27999999999999997\n",
      "phi: 0.32\n",
      "phi: 0.36\n",
      "phi: 0.39999999999999997\n",
      "phi: 0.44\n",
      "phi: 0.48\n",
      "phi: 0.52\n",
      "phi: 0.56\n",
      "phi: 0.6000000000000001\n",
      "phi: 0.64\n",
      "phi: 0.68\n",
      "phi: 0.7200000000000001\n",
      "phi: 0.76\n",
      "Initializing VI model\n",
      "Using State Grid Flag 16\n",
      "Loading step_table modelsB/VI_r14_a8_s16_v1_5_g95_limB_300episodes.csv from file\n",
      "Initialized VI Model modelsB/VI_r14_a8_s16_v1_5_g95_limB_300episodes.csv in 90.03917813301086sec\n",
      "Using State Grid Flag 16.3\n",
      "calculating basis of attraction for controller VI_3\n",
      "phi: 0.0\n",
      "phi: 0.04\n",
      "phi: 0.08\n",
      "phi: 0.12\n",
      "phi: 0.16\n",
      "phi: 0.2\n",
      "phi: 0.24000000000000002\n",
      "phi: 0.27999999999999997\n",
      "phi: 0.32\n",
      "phi: 0.36\n",
      "phi: 0.39999999999999997\n",
      "phi: 0.44\n",
      "phi: 0.48\n",
      "phi: 0.52\n",
      "phi: 0.56\n",
      "phi: 0.6000000000000001\n",
      "phi: 0.64\n",
      "phi: 0.68\n",
      "phi: 0.7200000000000001\n",
      "phi: 0.76\n",
      "Initializing VI model\n",
      "Using State Grid Flag 16\n",
      "Loading step_table modelsB/VI_r14_a8_s16_v2_g95_limB_300episodes.csv from file\n",
      "Initialized VI Model modelsB/VI_r14_a8_s16_v2_g95_limB_300episodes.csv in 83.46280455589294sec\n",
      "Using State Grid Flag 16.3\n",
      "calculating basis of attraction for controller VI_3\n",
      "phi: 0.0\n",
      "phi: 0.04\n",
      "phi: 0.08\n",
      "phi: 0.12\n",
      "phi: 0.16\n",
      "phi: 0.2\n",
      "phi: 0.24000000000000002\n",
      "phi: 0.27999999999999997\n",
      "phi: 0.32\n",
      "phi: 0.36\n",
      "phi: 0.39999999999999997\n",
      "phi: 0.44\n",
      "phi: 0.48\n",
      "phi: 0.52\n",
      "phi: 0.56\n",
      "phi: 0.6000000000000001\n",
      "phi: 0.64\n",
      "phi: 0.68\n",
      "phi: 0.7200000000000001\n",
      "phi: 0.76\n",
      "Initializing VI model\n",
      "Using State Grid Flag 16\n",
      "Loading step_table modelsB/VI_r14_a8_s16_v2_5_g95_limB_300episodes.csv from file\n",
      "Initialized VI Model modelsB/VI_r14_a8_s16_v2_5_g95_limB_300episodes.csv in 87.38029336929321sec\n",
      "Using State Grid Flag 16.3\n",
      "calculating basis of attraction for controller VI_3\n",
      "phi: 0.0\n",
      "phi: 0.04\n",
      "phi: 0.08\n",
      "phi: 0.12\n",
      "phi: 0.16\n",
      "phi: 0.2\n",
      "phi: 0.24000000000000002\n",
      "phi: 0.27999999999999997\n",
      "phi: 0.32\n",
      "phi: 0.36\n",
      "phi: 0.39999999999999997\n",
      "phi: 0.44\n",
      "phi: 0.48\n",
      "phi: 0.52\n",
      "phi: 0.56\n",
      "phi: 0.6000000000000001\n",
      "phi: 0.64\n",
      "phi: 0.68\n",
      "phi: 0.7200000000000001\n",
      "phi: 0.76\n",
      "Initializing VI model\n",
      "Using State Grid Flag 16\n",
      "Loading step_table modelsB/VI_r14_a8_s16_v3_g95_limB_300episodes.csv from file\n",
      "Initialized VI Model modelsB/VI_r14_a8_s16_v3_g95_limB_300episodes.csv in 91.86928296089172sec\n",
      "Using State Grid Flag 16.3\n",
      "calculating basis of attraction for controller VI_3\n",
      "phi: 0.0\n",
      "phi: 0.04\n",
      "phi: 0.08\n",
      "phi: 0.12\n",
      "phi: 0.16\n",
      "phi: 0.2\n",
      "phi: 0.24000000000000002\n",
      "phi: 0.27999999999999997\n",
      "phi: 0.32\n",
      "phi: 0.36\n",
      "phi: 0.39999999999999997\n",
      "phi: 0.44\n",
      "phi: 0.48\n",
      "phi: 0.52\n",
      "phi: 0.56\n",
      "phi: 0.6000000000000001\n",
      "phi: 0.64\n",
      "phi: 0.68\n",
      "phi: 0.7200000000000001\n",
      "phi: 0.76\n",
      "Initializing VI model\n",
      "Using State Grid Flag 16\n",
      "Loading step_table modelsB/VI_r14_a8_s16_v0_25_g95_limB_300episodes.csv from file\n",
      "Initialized VI Model modelsB/VI_r14_a8_s16_v0_25_g95_limB_300episodes.csv in 103.93899869918823sec\n",
      "Initializing VI model\n",
      "Using State Grid Flag 16\n",
      "Loading step_table modelsB/VI_r14_a8_s16_v0_5_g95_limB_300episodes.csv from file\n",
      "Initialized VI Model modelsB/VI_r14_a8_s16_v0_5_g95_limB_300episodes.csv in 86.2732503414154sec\n",
      "Initializing VI model\n",
      "Using State Grid Flag 16\n",
      "Loading step_table modelsB/VI_r14_a8_s16_v0_75_g95_limB_300episodes.csv from file\n",
      "Initialized VI Model modelsB/VI_r14_a8_s16_v0_75_g95_limB_300episodes.csv in 87.75124979019165sec\n",
      "Initializing VI model\n",
      "Using State Grid Flag 16\n",
      "Loading step_table modelsB/VI_r14_a8_s16_v1_g95_limB_300episodes.csv from file\n",
      "Initialized VI Model modelsB/VI_r14_a8_s16_v1_g95_limB_300episodes.csv in 90.51096415519714sec\n",
      "Initializing VI model\n",
      "Using State Grid Flag 16\n",
      "Loading step_table modelsB/VI_r14_a8_s16_v1_5_g95_limB_300episodes.csv from file\n",
      "Initialized VI Model modelsB/VI_r14_a8_s16_v1_5_g95_limB_300episodes.csv in 95.03681302070618sec\n",
      "Initializing VI model\n",
      "Using State Grid Flag 16\n",
      "Loading step_table modelsB/VI_r14_a8_s16_v2_g95_limB_300episodes.csv from file\n",
      "Initialized VI Model modelsB/VI_r14_a8_s16_v2_g95_limB_300episodes.csv in 89.00628995895386sec\n",
      "Initializing VI model\n",
      "Using State Grid Flag 16\n",
      "Loading step_table modelsB/VI_r14_a8_s16_v2_5_g95_limB_300episodes.csv from file\n",
      "Initialized VI Model modelsB/VI_r14_a8_s16_v2_5_g95_limB_300episodes.csv in 93.37126684188843sec\n",
      "Initializing VI model\n",
      "Using State Grid Flag 16\n",
      "Loading step_table modelsB/VI_r14_a8_s16_v3_g95_limB_300episodes.csv from file\n",
      "Initialized VI Model modelsB/VI_r14_a8_s16_v3_g95_limB_300episodes.csv in 85.93016910552979sec\n"
     ]
    }
   ],
   "source": [
    "\n",
    "VI_0_25_SA = calc_VI_BoA(v=0.25, controller_name = \"VI_r14_a8_s16_v0_25_g95_limB_300episodes\",\n",
    "                        SA_name = \"VI_3\", state_table_flag = state_table_flag)\n",
    "VI_0_5_SA = calc_VI_BoA(v=0.5, controller_name = \"VI_r14_a8_s16_v0_5_g95_limB_300episodes\",\n",
    "                       SA_name = \"VI_3\", state_table_flag = state_table_flag)\n",
    "VI_0_75_SA = calc_VI_BoA(v=0.75, controller_name = \"VI_r14_a8_s16_v0_75_g95_limB_300episodes\",\n",
    "                        SA_name = \"VI_3\", state_table_flag = state_table_flag)\n",
    "VI_1_SA = calc_VI_BoA(v=1.0, controller_name = \"VI_r14_a8_s16_v1_g95_limB_300episodes\",\n",
    "                        SA_name = \"VI_3\", state_table_flag = state_table_flag)\n",
    "VI_1_5_SA = calc_VI_BoA(v=1.5, controller_name = \"VI_r14_a8_s16_v1_5_g95_limB_300episodes\",\n",
    "                        SA_name = \"VI_3\", state_table_flag = state_table_flag)\n",
    "VI_2_SA = calc_VI_BoA(v=2.0, controller_name = \"VI_r14_a8_s16_v2_g95_limB_300episodes\",\n",
    "                        SA_name = \"VI_3\", state_table_flag = state_table_flag)\n",
    "VI_2_5_SA = calc_VI_BoA(v=2.5, controller_name = \"VI_r14_a8_s16_v2_5_g95_limB_300episodes\",\n",
    "                        SA_name = \"VI_3\", state_table_flag = state_table_flag)\n",
    "VI_3_SA = calc_VI_BoA(v=3.0, controller_name = \"VI_r14_a8_s16_v3_g95_limB_300episodes\",\n",
    "                        SA_name = \"VI_3\", state_table_flag = state_table_flag)\n",
    "\n",
    "d_0_25_VI = calc_d_VI(0.25, \"VI_r14_a8_s16_v0_25_g95_limB_300episodes\")\n",
    "d_0_5_VI = calc_d_VI(0.5, \"VI_r14_a8_s16_v0_5_g95_limB_300episodes\")\n",
    "d_0_75_VI = calc_d_VI(0.75, \"VI_r14_a8_s16_v0_75_g95_limB_300episodes\")\n",
    "d_1_VI = calc_d_VI(1.0, \"VI_r14_a8_s16_v1_g95_limB_300episodes\")\n",
    "d_1_5_VI = calc_d_VI(1.5, \"VI_r14_a8_s16_v1_5_g95_limB_300episodes\")\n",
    "d_2_VI = calc_d_VI(2.0, \"VI_r14_a8_s16_v2_g95_limB_300episodes\")\n",
    "d_2_5_VI = calc_d_VI(2.5, \"VI_r14_a8_s16_v2_5_g95_limB_300episodes\")\n",
    "d_3_VI = calc_d_VI(3.0, \"VI_r14_a8_s16_v3_g95_limB_300episodes\")\n",
    "\n"
   ]
  },
  {
   "cell_type": "code",
   "execution_count": 30,
   "metadata": {},
   "outputs": [
    {
     "data": {
      "text/plain": [
       "(0.1207537688442211, 0.5279593032426707)"
      ]
     },
     "execution_count": 30,
     "metadata": {},
     "output_type": "execute_result"
    }
   ],
   "source": [
    "d_3_VI"
   ]
  },
  {
   "cell_type": "code",
   "execution_count": 277,
   "metadata": {
    "collapsed": true
   },
   "outputs": [
    {
     "name": "stdout",
     "output_type": "stream",
     "text": [
      "Using State Grid Flag 16.3\n",
      "calculating basis of attraction for controller linear_0_5_lim_4_8\n",
      "phi: 0.0\n",
      "phi: 0.04\n",
      "phi: 0.08\n",
      "phi: 0.12\n",
      "phi: 0.16\n",
      "phi: 0.2\n",
      "phi: 0.24000000000000002\n",
      "phi: 0.27999999999999997\n",
      "phi: 0.32\n",
      "phi: 0.36\n",
      "phi: 0.39999999999999997\n",
      "phi: 0.44\n",
      "phi: 0.48\n",
      "phi: 0.52\n",
      "phi: 0.56\n",
      "phi: 0.6000000000000001\n",
      "phi: 0.64\n",
      "phi: 0.68\n",
      "phi: 0.7200000000000001\n",
      "phi: 0.76\n"
     ]
    }
   ],
   "source": [
    "linear_0_5_del_0_8_SA = calc_basin_of_attraction(\n",
    "    controller = LinearController.LinearController(\n",
    "        getLQRGains(\"lqrd_0.5m_s\")),\n",
    "    name = \"linear_0_5_lim_4_8\", \n",
    "    state_table_flag = state_table_flag, \n",
    "    v = 0.5,\n",
    "    save = True,\n",
    "    delta_limit = 0.8)"
   ]
  },
  {
   "cell_type": "code",
   "execution_count": 29,
   "metadata": {},
   "outputs": [],
   "source": [
    "#VI_2_SA_limited = load_basin(\"VI_r14_a8_s16_2_v2_g95_limB_300episodes\")\n",
    "linear_2_SA = load_basin(\"lin_2_limited\")"
   ]
  },
  {
   "cell_type": "code",
   "execution_count": 37,
   "metadata": {},
   "outputs": [
    {
     "ename": "NameError",
     "evalue": "name 'calc_VI_BoA' is not defined",
     "output_type": "error",
     "traceback": [
      "\u001b[1;31m---------------------------------------------------------------------------\u001b[0m",
      "\u001b[1;31mNameError\u001b[0m                                 Traceback (most recent call last)",
      "\u001b[1;32m<ipython-input-37-5c330c7450fc>\u001b[0m in \u001b[0;36m<module>\u001b[1;34m\u001b[0m\n\u001b[1;32m----> 1\u001b[1;33m VI_2_SA_limited = calc_VI_BoA(v=2.0, controller_name = \"VI_r14_a8_s16_v2__ddel_1_18_del_08_300episodes\",\n\u001b[0m\u001b[0;32m      2\u001b[0m                         SA_name = \"VI_2_limited\", state_table_flag = state_table_flag)\n",
      "\u001b[1;31mNameError\u001b[0m: name 'calc_VI_BoA' is not defined"
     ]
    }
   ],
   "source": [
    "VI_2_SA_limited = calc_VI_BoA(v=2.0, controller_name = \"VI_r14_a8_s16_v2__ddel_1_18_del_08_300episodes\",\n",
    "                        SA_name = \"VI_2_limited\", state_table_flag = state_table_flag)"
   ]
  },
  {
   "cell_type": "code",
   "execution_count": 293,
   "metadata": {
    "collapsed": true
   },
   "outputs": [
    {
     "name": "stdout",
     "output_type": "stream",
     "text": [
      "Using State Grid Flag 16.3\n",
      "calculating basis of attraction for controller none\n",
      "phi: 0.0\n",
      "phi: 0.04\n",
      "phi: 0.08\n",
      "phi: 0.12\n",
      "phi: 0.16\n",
      "phi: 0.2\n",
      "phi: 0.24000000000000002\n",
      "phi: 0.27999999999999997\n",
      "phi: 0.32\n",
      "phi: 0.36\n",
      "phi: 0.39999999999999997\n",
      "phi: 0.44\n",
      "phi: 0.48\n",
      "phi: 0.52\n",
      "phi: 0.56\n",
      "phi: 0.6000000000000001\n",
      "phi: 0.64\n",
      "phi: 0.68\n",
      "phi: 0.7200000000000001\n",
      "phi: 0.76\n"
     ]
    }
   ],
   "source": [
    "# linear_2_delDot4_del08 = calc_basin_of_attraction(\n",
    "#     controller = LinearController.LinearController(\n",
    "#         getLQRGains(\"lqrd_2m_s\")),\n",
    "#     name = \"none\", \n",
    "#     state_table_flag = state_table_flag, \n",
    "#     v = 2,\n",
    "#     save = True,\n",
    "#     max_steer_rate = 4,\n",
    "#     delta_limit = 0.8)\n",
    "linear_2_delDot10_del08 = calc_basin_of_attraction(\n",
    "    controller = LinearController.LinearController(\n",
    "        getLQRGains(\"lqrd_2m_s\")),\n",
    "    name = \"none\", \n",
    "    state_table_flag = state_table_flag, \n",
    "    v = 2,\n",
    "    save = True,\n",
    "    max_steer_rate = 10,\n",
    "    delta_limit = 0.8)"
   ]
  },
  {
   "cell_type": "code",
   "execution_count": null,
   "metadata": {},
   "outputs": [],
   "source": []
  },
  {
   "cell_type": "code",
   "execution_count": 55,
   "metadata": {},
   "outputs": [
    {
     "name": "stdout",
     "output_type": "stream",
     "text": [
      "Using State Grid Flag 16.3\n",
      "Success Graphs:\n",
      "Red= failure, Green = success\n"
     ]
    },
    {
     "ename": "NameError",
     "evalue": "name 'ypoints_linear' is not defined",
     "output_type": "error",
     "traceback": [
      "\u001b[1;31m---------------------------------------------------------------------------\u001b[0m",
      "\u001b[1;31mNameError\u001b[0m                                 Traceback (most recent call last)",
      "\u001b[1;32m<ipython-input-55-2da6e0fd849b>\u001b[0m in \u001b[0;36m<module>\u001b[1;34m\u001b[0m\n\u001b[0;32m      3\u001b[0m                        \u001b[0mnames\u001b[0m \u001b[1;33m=\u001b[0m \u001b[1;33m[\u001b[0m\u001b[1;34m\"linear 2m/s \"\u001b[0m\u001b[1;33m,\u001b[0m \u001b[1;34m\"nonlinear 2m/s\"\u001b[0m\u001b[1;33m]\u001b[0m\u001b[1;33m,\u001b[0m\u001b[1;33m\u001b[0m\u001b[0m\n\u001b[0;32m      4\u001b[0m                        \u001b[0mstate_table_flag\u001b[0m \u001b[1;33m=\u001b[0m \u001b[0mstate_table_flag\u001b[0m\u001b[1;33m,\u001b[0m\u001b[1;33m\u001b[0m\u001b[0m\n\u001b[1;32m----> 5\u001b[1;33m                       d_vals_list = [d_2_lin, d_2_lin ])\n\u001b[0m",
      "\u001b[1;32m<ipython-input-54-b848a3c68710>\u001b[0m in \u001b[0;36mplot_basin_from_arrays\u001b[1;34m(success_arrays, names, state_table_flag, d_vals_list)\u001b[0m\n\u001b[0;32m    114\u001b[0m \u001b[1;33m\u001b[0m\u001b[0m\n\u001b[0;32m    115\u001b[0m         \u001b[0max1\u001b[0m\u001b[1;33m.\u001b[0m\u001b[0mplot\u001b[0m\u001b[1;33m(\u001b[0m\u001b[0mxpoints\u001b[0m\u001b[1;33m,\u001b[0m \u001b[0mypoints\u001b[0m\u001b[1;33m,\u001b[0m \u001b[1;34m'w'\u001b[0m\u001b[1;33m,\u001b[0m \u001b[0mlinewidth\u001b[0m\u001b[1;33m=\u001b[0m\u001b[1;36m4.0\u001b[0m\u001b[1;33m)\u001b[0m\u001b[1;33m\u001b[0m\u001b[0m\n\u001b[1;32m--> 116\u001b[1;33m         \u001b[0max1\u001b[0m\u001b[1;33m.\u001b[0m\u001b[0mplot\u001b[0m\u001b[1;33m(\u001b[0m\u001b[0mxpoints\u001b[0m\u001b[1;33m,\u001b[0m \u001b[0mypoints_linear\u001b[0m\u001b[1;33m,\u001b[0m \u001b[1;34m'k'\u001b[0m\u001b[1;33m)\u001b[0m\u001b[1;33m\u001b[0m\u001b[0m\n\u001b[0m\u001b[0;32m    117\u001b[0m         \u001b[0max1\u001b[0m\u001b[1;33m.\u001b[0m\u001b[0mplot\u001b[0m\u001b[1;33m(\u001b[0m \u001b[0mx_boundry_upper\u001b[0m\u001b[1;33m,\u001b[0m  \u001b[0my_boundry_upper\u001b[0m\u001b[1;33m,\u001b[0m\u001b[1;34m'w'\u001b[0m\u001b[1;33m)\u001b[0m\u001b[1;33m\u001b[0m\u001b[0m\n\u001b[0;32m    118\u001b[0m         \u001b[0max1\u001b[0m\u001b[1;33m.\u001b[0m\u001b[0mplot\u001b[0m\u001b[1;33m(\u001b[0m \u001b[0mx_boundry_lower\u001b[0m\u001b[1;33m,\u001b[0m  \u001b[0my_boundry_lower\u001b[0m\u001b[1;33m,\u001b[0m\u001b[1;34m'w'\u001b[0m\u001b[1;33m)\u001b[0m\u001b[1;33m\u001b[0m\u001b[0m\n",
      "\u001b[1;31mNameError\u001b[0m: name 'ypoints_linear' is not defined"
     ]
    },
    {
     "data": {
      "image/png": "[encoded data removed]",
      "text/plain": [
       "<Figure size 1440x1600 with 2 Axes>"
      ]
     },
     "metadata": {},
     "output_type": "display_data"
    }
   ],
   "source": [
    "#success_arrays_notloaded = [linear_0_5_SA, linear_0_25_SA]\n",
    "plot_basin_from_arrays(success_arrays = [linear_2_SA , VI_2_SA] ,\n",
    "                       names = [\"linear 2m/s \", \"nonlinear 2m/s\"], \n",
    "                       state_table_flag = state_table_flag,\n",
    "                      d_vals_list = [d_2_lin, d_2_lin ])"
   ]
  },
  {
   "cell_type": "code",
   "execution_count": null,
   "metadata": {},
   "outputs": [],
   "source": []
  },
  {
   "cell_type": "code",
   "execution_count": null,
   "metadata": {},
   "outputs": [],
   "source": []
  }
 ],
 "metadata": {
  "kernelspec": {
   "display_name": "Python 3",
   "language": "python",
   "name": "python3"
  },
  "language_info": {
   "codemirror_mode": {
    "name": "ipython",
    "version": 3
   },
   "file_extension": ".py",
   "mimetype": "text/x-python",
   "name": "python",
   "nbconvert_exporter": "python",
   "pygments_lexer": "ipython3",
   "version": "3.6.6"
  }
 },
 "nbformat": 4,
 "nbformat_minor": 2
}
