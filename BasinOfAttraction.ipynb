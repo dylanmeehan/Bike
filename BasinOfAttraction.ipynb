{
 "cells": [
  {
   "cell_type": "code",
   "execution_count": null,
   "metadata": {},
   "outputs": [],
   "source": []
  },
  {
   "cell_type": "code",
   "execution_count": 30,
   "metadata": {},
   "outputs": [],
   "source": [
    "import LinearController\n",
    "from StateGridPoints import *\n",
    "from runBicycleTest import *\n",
    "import time\n",
    "from valueIteration import *\n",
    "from LinearController import getLQRGains\n",
    "from datetime import datetime\n",
    "from matplotlib import colors"
   ]
  },
  {
   "cell_type": "code",
   "execution_count": 13,
   "metadata": {},
   "outputs": [],
   "source": [
    "def calc_basin_of_attraction(controller, name, state_table_flag, v,\n",
    "                             save = True):\n",
    "    #state_table_flag is for the state table we will use to make the\n",
    "    # grid points (ie, the controller may have been trained on a \n",
    "    #different one, but it will be plotted on state_table_flag)\n",
    "    \n",
    "    GridPoints = StateGridPoints()\n",
    "    GridPoints.set_state_grid_points(state_table_flag)\n",
    "\n",
    "  #with delta = 0\n",
    "\n",
    "    phi_points, phi_dot_points,  delta_points = \\\n",
    "        np.meshgrid(GridPoints.phi_grid, GridPoints.phi_dot_grid,\n",
    "                    [0.0])\n",
    "    phi_and_phi_dot_points= np.rec.fromarrays([phi_points, \n",
    "                                               phi_dot_points,\n",
    "        delta_points], \n",
    "        names='phi_points,phi_dot_points, delta_points')\n",
    "    \n",
    "    print(\"calculating basis of attraction for controller \" +\n",
    "          name)\n",
    "    success_array = np.zeros((GridPoints.len_phi_half_grid,\n",
    "      GridPoints.len_phi_dot_grid))\n",
    "     \n",
    "    for (i, phi) in enumerate(GridPoints.phi_half_grid):\n",
    "\n",
    "        print(\"phi: \" + str(phi))\n",
    "        for (j, phi_dot) in enumerate(GridPoints.phi_dot_grid):\n",
    "\n",
    "            (success, _ ) = runBicycleTest(stateflag = None, \n",
    "                                           controller = controller,\n",
    "            name = \"\", reward_flag = 14, simulation_duration= 2.0,\n",
    "            isGraphing  = False, figObject = None, isPrinting = False,\n",
    "            integrator_method = \"fixed_step_RK4\",\n",
    "            USE_LINEAR_EOM = False, timestep = 1/50,\n",
    "            starting_state3 = [phi, phi_dot, 0.0],\n",
    "            v = v)\n",
    "\n",
    "            success_array[i,j] = success\n",
    "    \n",
    "    if save:\n",
    "        np.savetxt(\"BasinOfAttraction/\"+ name \n",
    "                   + \"_BasisOfAttraction.csv\", success_array,\n",
    "           delimiter = \",\")\n",
    "\n",
    "    \n",
    "    return success_array"
   ]
  },
  {
   "cell_type": "code",
   "execution_count": 55,
   "metadata": {},
   "outputs": [],
   "source": [
    "def load_basin(name):\n",
    "    success_array = np.loadtxt(\"BasinOfAttraction/\"+ name \n",
    "                   + \"_BasisOfAttraction.csv\",\n",
    "           delimiter = \",\")\n",
    "    return success_array"
   ]
  },
  {
   "cell_type": "code",
   "execution_count": 50,
   "metadata": {},
   "outputs": [],
   "source": [
    "def plot_basin_from_arrays(success_arrays, names, state_table_flag):\n",
    "    #success_arrays is a list of arrays of successes each generated\n",
    "    #with a call to 'calc_basin_of_attraction'\n",
    "    n = len(success_arrays)\n",
    "    fig1, ax1s = plt.subplots(1,n)\n",
    "    \n",
    "    GridPoints = StateGridPoints()\n",
    "    GridPoints.set_state_grid_points(state_table_flag)\n",
    "    \n",
    "    difference_array = np.zeros((GridPoints.len_phi_half_grid, GridPoints.len_phi_dot_grid))\n",
    "    \n",
    "    print(\"Success Graphs:\")\n",
    "    print(\"Red= failure, Green = success\")\n",
    "    for idx in range(n):\n",
    "        success_array = success_arrays[idx]\n",
    "        \n",
    "        #define colormap\n",
    "        cmap = colors.ListedColormap(['red','green'])\n",
    "        bounds = [-0.5,0.5 ,1.5]\n",
    "        norm= colors.BoundaryNorm(bounds, cmap.N)\n",
    "        \n",
    "        if idx==0:\n",
    "            difference_array += success_array\n",
    "        elif idx==1:\n",
    "            difference_array -= success_array\n",
    "        else:\n",
    "            print(\"** Difference Array not computed for index \" + str(idx))\n",
    "\n",
    "        ax1 = ax1s[idx]\n",
    "\n",
    "        im1 = ax1.imshow(success_array, cmap=cmap, norm = norm)\n",
    "        ax1.set_title(str(names[idx])+\" Basin of Attraction (delta = 0)\")\n",
    "        ax1.set_ylabel(\"lean [rad]\")\n",
    "        ax1.set_xlabel(\"lean rate [rad/s]\")\n",
    "        ax1.set_yticks(np.arange(GridPoints.len_phi_half_grid))\n",
    "        ax1.set_xticks(np.arange(GridPoints.len_phi_dot_grid))\n",
    "        ax1.set_yticklabels(np.around(GridPoints.phi_half_grid, decimals=2))\n",
    "        ax1.set_xticklabels(np.around(GridPoints.phi_dot_grid, decimals = 2))\n",
    "\n",
    "    fig2, ax2 = plt.subplots(1,1)\n",
    "    #plot differences\n",
    "    \n",
    "    print(\"Differences Graph: \")\n",
    "    colors_to_plot = ['yellow','white','purple']\n",
    "    print(colors_to_plot[0]+\": \"+names[1]+\" success only\")\n",
    "    print(colors_to_plot[1]+\": both controllers same\")\n",
    "    print(colors_to_plot[2]+\": \"+names[0]+\" success only\")\n",
    "    #define colormap\n",
    "    cmap = colors.ListedColormap(colors_to_plot)\n",
    "    bounds = [-1.5, -.5, .5 ,1.5]\n",
    "    norm= colors.BoundaryNorm(bounds, cmap.N)\n",
    "    \n",
    "    im2 = ax2.imshow(difference_array,cmap = cmap, norm=norm)\n",
    "    ax2.set_title(\" Difference between \" + str(names[0])+ \" and \" + str(names[1]))\n",
    "    ax2.set_ylabel(\"lean [rad]\")\n",
    "    ax2.set_xlabel(\"lean rate [rad/s]\")\n",
    "    ax2.set_yticks(np.arange(GridPoints.len_phi_half_grid))\n",
    "    ax2.set_xticks(np.arange(GridPoints.len_phi_dot_grid))\n",
    "    ax2.set_yticklabels(np.around(GridPoints.phi_half_grid, decimals=2))\n",
    "    ax2.set_xticklabels(np.around(GridPoints.phi_dot_grid, decimals = 2))\n",
    "        \n",
    "    plt.show()"
   ]
  },
  {
   "cell_type": "code",
   "execution_count": 63,
   "metadata": {},
   "outputs": [
    {
     "name": "stdout",
     "output_type": "stream",
     "text": [
      "Using State Grid Flag 16.1\n",
      "calculating basis of attraction for controller linear_0_5\n",
      "phi: 0.0\n",
      "phi: 0.75\n",
      "phi: 0.78\n"
     ]
    }
   ],
   "source": [
    "#calc basin for 0.5m/s\n",
    "name1 = \"linear_0_5\"\n",
    "linear_0_5_SA = calc_basin_of_attraction(\n",
    "    controller = LinearController.LinearController(\n",
    "        getLQRGains(\"lqrd_0.5m_s\")),\n",
    "    name = name1, \n",
    "    state_table_flag = 16.1, \n",
    "    v = 0.5,\n",
    "    save = True)"
   ]
  },
  {
   "cell_type": "code",
   "execution_count": 64,
   "metadata": {},
   "outputs": [
    {
     "name": "stdout",
     "output_type": "stream",
     "text": [
      "Using State Grid Flag 16.1\n",
      "calculating basis of attraction for controller linear_0_25\n",
      "phi: 0.0\n",
      "phi: 0.75\n",
      "phi: 0.78\n"
     ]
    }
   ],
   "source": [
    "#calc basin for 0.25m/s\n",
    "name2 = \"linear_0_25\"\n",
    "linear_0_25_SA = calc_basin_of_attraction(\n",
    "    controller = LinearController.LinearController(\n",
    "        getLQRGains(\"lqrd_0.25m_s\")),\n",
    "    name = name2, \n",
    "    state_table_flag = 16.1, \n",
    "    v = 0.25,\n",
    "    save = True)"
   ]
  },
  {
   "cell_type": "code",
   "execution_count": 61,
   "metadata": {},
   "outputs": [
    {
     "name": "stdout",
     "output_type": "stream",
     "text": [
      "Initializing VI model\n",
      "Using State Grid Flag 16\n",
      "Loading step_table modelsB/VI_r14_a1_s16_v0.5_100episodes.csv from file\n",
      "Initialized VI Model modelsB/VI_r14_a1_s16_v0.5_100episodes.csv in 160.5890407562256sec\n",
      "Using State Grid Flag 16.1\n",
      "calculating basis of attraction for controller VI_0_5\n",
      "phi: 0.0\n",
      "phi: 0.75\n",
      "phi: 0.78\n"
     ]
    }
   ],
   "source": [
    "v = 0.5\n",
    "\n",
    "#name = \"VI_r14_s6_a1\"\n",
    "#name = \"VI_r14_a1_s16_v1_50episodes\"\n",
    "# name = \"VI_r14_a1_s16_v0.5_100episodes\"\n",
    "name = \"VI_r14_a1_s16_v0.5_100episodes\"\n",
    "#name = \"VI_r14_a1_s16_v2_30episodes\"\n",
    "VI_model = ValueIteration(state_grid_flag = 16, action_grid_flag = 1,\n",
    "reward_flag = 14, Ufile = \"modelsB/\"+name, use_only_continuous_actions = False,\n",
    "remake_table = False, step_table_integration_method = \"fixed_step_RK4\",\n",
    "USE_LINEAR_EOM = False, name = name, timestep = 1/50, v = v)\n",
    "\n",
    "\n",
    "VI_model.init_controller(use_continuous_actions = True,\n",
    "  use_continuous_state_with_discrete_actions = True,\n",
    "  controller_integration_method = \"fixed_step_RK4\",\n",
    "  use_regression_model_of_table = False)\n",
    "\n",
    "name3 = \"VI_0_5\"\n",
    "\n",
    "VI_0_5_SA = calc_basin_of_attraction(\n",
    "    controller = VI_model,\n",
    "    name = name3, \n",
    "    state_table_flag = 16.1, \n",
    "    v = v,\n",
    "    save = True)"
   ]
  },
  {
   "cell_type": "code",
   "execution_count": 56,
   "metadata": {},
   "outputs": [],
   "source": [
    "success_arrays_loaded = [load_basin(name1),load_basin(name2)]"
   ]
  },
  {
   "cell_type": "code",
   "execution_count": 65,
   "metadata": {},
   "outputs": [
    {
     "name": "stdout",
     "output_type": "stream",
     "text": [
      "Using State Grid Flag 16.1\n",
      "Success Graphs:\n",
      "Red= failure, Green = success\n",
      "Differences Graph: \n",
      "yellow: VI_0_5 success only\n",
      "white: both controllers same\n",
      "purple: linear_0_5 success only\n"
     ]
    },
    {
     "data": {
      "image/png": "[encoded data removed]",
      "text/plain": [
       "<Figure size 432x288 with 2 Axes>"
      ]
     },
     "metadata": {
      "needs_background": "light"
     },
     "output_type": "display_data"
    },
    {
     "data": {
      "image/png": "[encoded data removed]",
      "text/plain": [
       "<Figure size 432x288 with 1 Axes>"
      ]
     },
     "metadata": {
      "needs_background": "light"
     },
     "output_type": "display_data"
    }
   ],
   "source": [
    "success_arrays_notloaded = [linear_0_5_SA,VI_0_5_SA]\n",
    "plot_basin_from_arrays(success_arrays = success_arrays_notloaded ,\n",
    "                       names = [name1, name3], \n",
    "                       state_table_flag = 16.1)"
   ]
  },
  {
   "cell_type": "code",
   "execution_count": null,
   "metadata": {},
   "outputs": [],
   "source": [
    "v = 0.5\n",
    "\n",
    "#name = \"VI_r14_s6_a1\"\n",
    "#name = \"VI_r14_a1_s16_v1_50episodes\"\n",
    "# name = \"VI_r14_a1_s16_v0.5_100episodes\"\n",
    "name = \"VI_r14_a1_s16_v0.5_100episodes\"\n",
    "#name = \"VI_r14_a1_s16_v2_30episodes\"\n",
    "VI_model = ValueIteration(state_grid_flag = 16, action_grid_flag = 1,\n",
    "reward_flag = 14, Ufile = \"modelsB/\"+name, use_only_continuous_actions = False,\n",
    "remake_table = False, step_table_integration_method = \"fixed_step_RK4\",\n",
    "USE_LINEAR_EOM = False, name = name, timestep = 1/50, v = v)\n",
    "\n",
    "\n",
    "VI_model.init_controller(use_continuous_actions = True,\n",
    "  use_continuous_state_with_discrete_actions = True,\n",
    "  controller_integration_method = \"fixed_step_RK4\",\n",
    "  use_regression_model_of_table = False)\n",
    "\n",
    "plot_basin_of_attraction([LinearController.LinearController(getLQRGains(\"lqrd_0.5m_s\")),\n",
    "  VI_model], [\"linear 0.5 m/s, 5s\", \"VI 0.5m/s, 5s\"],  16.2, v = v)\n",
    "\n",
    "#use state grid points 16.2 so straight lines are straight\n",
    "# plot_basin_of_attraction([LinearController.LinearController(getLQRGains(\"lqrd_3m_s\")),\n",
    "#    LinearController.LinearController(getLQRGains(\"lqrd_1m_s\"))],\n",
    "#    [\"linear_r14_3m/s\", \"linear_r14_1m/s\"],  16.2, v = 3.0)\n",
    "\n",
    "# plot_basin_of_attraction([LinearController.LinearController(getLQRGains(\"lqrd_2m_s\"))],\n",
    "#  [\"linear r14\"],  16)"
   ]
  }
 ],
 "metadata": {
  "kernelspec": {
   "display_name": "Python 3",
   "language": "python",
   "name": "python3"
  },
  "language_info": {
   "codemirror_mode": {
    "name": "ipython",
    "version": 3
   },
   "file_extension": ".py",
   "mimetype": "text/x-python",
   "name": "python",
   "nbconvert_exporter": "python",
   "pygments_lexer": "ipython3",
   "version": "3.6.6"
  }
 },
 "nbformat": 4,
 "nbformat_minor": 2
}
