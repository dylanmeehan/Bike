{
 "cells": [
  {
   "cell_type": "code",
   "execution_count": 23,
   "metadata": {},
   "outputs": [],
   "source": [
    "%matplotlib inline"
   ]
  },
  {
   "cell_type": "code",
   "execution_count": 2,
   "metadata": {},
   "outputs": [],
   "source": [
    "import LinearController\n",
    "from StateGridPoints import *\n",
    "from runBicycleTest import *\n",
    "import time\n",
    "from valueIteration import *\n",
    "from LinearController import getLQRGains\n",
    "from datetime import datetime\n",
    "from matplotlib import colors"
   ]
  },
  {
   "cell_type": "code",
   "execution_count": 3,
   "metadata": {},
   "outputs": [],
   "source": [
    "def calc_basin_of_attraction(controller, name, state_table_flag, v,\n",
    "                             save = True):\n",
    "    #state_table_flag is for the state table we will use to make the\n",
    "    # grid points (ie, the controller may have been trained on a \n",
    "    #different one, but it will be plotted on state_table_flag)\n",
    "    \n",
    "    GridPoints = StateGridPoints()\n",
    "    GridPoints.set_state_grid_points(state_table_flag)\n",
    "\n",
    "  #with delta = 0\n",
    "\n",
    "    phi_points, phi_dot_points,  delta_points = \\\n",
    "        np.meshgrid(GridPoints.phi_grid, GridPoints.phi_dot_grid,\n",
    "                    [0.0])\n",
    "    #if change delta from 0, think carefully about how\n",
    "    #to mirror the points when plotting it\n",
    "    \n",
    "    phi_and_phi_dot_points= np.rec.fromarrays([phi_points, \n",
    "                                               phi_dot_points,\n",
    "        delta_points], \n",
    "        names='phi_points,phi_dot_points, delta_points')\n",
    "    \n",
    "    print(\"calculating basis of attraction for controller \" +\n",
    "          name)\n",
    "    success_array = np.zeros((GridPoints.len_phi_half_grid,\n",
    "      GridPoints.len_phi_dot_grid))\n",
    "     \n",
    "    for (i, phi) in enumerate(GridPoints.phi_half_grid):\n",
    "\n",
    "        print(\"phi: \" + str(phi))\n",
    "        for (j, phi_dot) in enumerate(GridPoints.phi_dot_grid):\n",
    "\n",
    "            (success, _ ) = runBicycleTest(stateflag = None, \n",
    "                                           controller = controller,\n",
    "            name = \"\", reward_flag = 14, simulation_duration= 2.0,\n",
    "            isGraphing  = False, figObject = None, isPrinting = False,\n",
    "            integrator_method = \"fixed_step_RK4\",\n",
    "            USE_LINEAR_EOM = False, timestep = 1/50,\n",
    "            starting_state3 = [phi, phi_dot, 0.0],\n",
    "            v = v)\n",
    "\n",
    "            success_array[i,j] = success\n",
    "    \n",
    "    if save:\n",
    "        np.savetxt(\"BasinOfAttraction/\"+ name \n",
    "                   + \"_BasisOfAttraction.csv\", success_array,\n",
    "           delimiter = \",\")\n",
    "\n",
    "    \n",
    "    return success_array"
   ]
  },
  {
   "cell_type": "code",
   "execution_count": 4,
   "metadata": {},
   "outputs": [],
   "source": [
    "def load_basin(name):\n",
    "    success_array = np.loadtxt(\"BasinOfAttraction/\"+ name \n",
    "                   + \"_BasisOfAttraction.csv\",\n",
    "           delimiter = \",\")\n",
    "    return success_array"
   ]
  },
  {
   "cell_type": "code",
   "execution_count": 87,
   "metadata": {},
   "outputs": [],
   "source": [
    "def calc_d_size(controller, v):\n",
    "    \n",
    "    #everything is in terms of phi and phi_dot, not pixels\n",
    "    n = 50\n",
    "    phi_dot_ortho_list = np.linspace(0,0.178,n)  #start at 0 because we only want to search over half of the state space\n",
    "    phi_ortho_list = phi_dot_ortho_list*(.975/.223)\n",
    "    \n",
    "    success_array = np.zeros(n)\n",
    "    \n",
    "    for i in range(n):\n",
    "        phi_dot = phi_dot_ortho_list[i]\n",
    "        phi = phi_ortho_list[i]\n",
    "        \n",
    "        (success, _ ) = runBicycleTest(stateflag = None, \n",
    "            controller = controller,\n",
    "            name = \"\", reward_flag = 14, simulation_duration= 2.0,\n",
    "            isGraphing  = False, figObject = None, isPrinting = False,\n",
    "            integrator_method = \"fixed_step_RK4\",\n",
    "            USE_LINEAR_EOM = False, timestep = 1/50,\n",
    "            starting_state3 = [phi, phi_dot, 0.0],\n",
    "            v = v)\n",
    "\n",
    "        success_array[i] = success\n",
    "    \n",
    "    #make sure there is a boundry between falling and not falling that we can reach\n",
    "    assert(success_array[0] != success_array[-1])\n",
    "    \n",
    "    i_s = np.nonzero(0==success_array)\n",
    "   \n",
    "    i = i_s[0][0]    #why do I need to index twice, idk man. np.nonzero is wierd\n",
    "    d_phi = phi_ortho_list[i]\n",
    "    d_phi_dot = phi_dot_ortho_list[i]\n",
    "    \n",
    "    return (d_phi_dot,d_phi)\n",
    "    \n",
    "#     xpoints_ortho = xpoints_ortho + GridPoints.len_phi_dot_grid//2\n",
    "#     ypoin"
   ]
  },
  {
   "cell_type": "code",
   "execution_count": 89,
   "metadata": {},
   "outputs": [],
   "source": [
    "linear_0_5_controller = LinearController.LinearController(getLQRGains(\"lqrd_0.5m_s\"))\n",
    "linear_0_25_controller =  LinearController.LinearController(getLQRGains(\"lqrd_0.25m_s\"))\n",
    "linear_1_controller =  LinearController.LinearController(getLQRGains(\"lqrd_1m_s\"))\n",
    "linear_2_controller =  LinearController.LinearController(getLQRGains(\"lqrd_2m_s\"))\n",
    "linear_3_controller =  LinearController.LinearController(getLQRGains(\"lqrd_3m_s\"))\n",
    "\n",
    "d_0_25 = calc_d_size(linear_0_25_controller, v = 0.25)\n",
    "d_0_5 = calc_d_size(linear_0_5_controller, v = 0.5)\n",
    "d_1 = calc_d_size(linear_1_controller, v = 1)\n",
    "d_2 = calc_d_size(linear_2_controller, v = 2)\n",
    "d_3 = calc_d_size(linear_3_controller, v = 3)"
   ]
  },
  {
   "cell_type": "code",
   "execution_count": null,
   "metadata": {},
   "outputs": [],
   "source": [
    "#plot different d values\n"
   ]
  },
  {
   "cell_type": "code",
   "execution_count": 88,
   "metadata": {},
   "outputs": [],
   "source": [
    "def plot_basin_from_arrays(success_arrays, names, state_table_flag, d_vals_list = None):\n",
    "    #success_arrays is a list of arrays of successes each generated\n",
    "    #with a call to 'calc_basin_of_attraction'\n",
    "    n = len(success_arrays)\n",
    "    fig1, ax1s = plt.subplots(1,n)\n",
    "    \n",
    "    GridPoints = StateGridPoints()\n",
    "    GridPoints.set_state_grid_points(state_table_flag)\n",
    "    \n",
    "    #scale multiplier is the difference between the phi and phi_dot scales\n",
    "    if state_table_flag == 16.2:\n",
    "        scale_multiplier = 2\n",
    "        phi_scale = 50\n",
    "        phi_dot_scale = 25\n",
    "    elif state_table_flag == 16.3:\n",
    "        scale_multiplier = 1\n",
    "        phi_scale = 25\n",
    "        phi_dot_scale = 25\n",
    "    \n",
    "    difference_array = np.zeros((GridPoints.len_phi_grid, GridPoints.len_phi_dot_grid))\n",
    "    \n",
    "    ##### get line of constant energy? to plot (eigvector of A)\n",
    "    xpoints = np.linspace(-GridPoints.len_phi_dot_grid//2, \n",
    "                          GridPoints.len_phi_dot_grid//2,11)\n",
    "    \n",
    "    ypoints = xpoints*(-0.223/0.975)*(scale_multiplier) #scale by 2 since phi_dot grid has 2x the spacing of phi grid\n",
    "    #magic numbers from eigenvector of A w/ negative eigenvalue\n",
    "#     ypoints = np.interp(ypoints_unscaled, \n",
    "#            (ypoints_unscaled.min(), ypoints_unscaled.max()),\n",
    "#            (GridPoints.len_phi_half_grid*-1, \n",
    "#             GridPoints.len_phi_half_grid))\n",
    "    \n",
    "    #more origin to center\n",
    "    xpoints = xpoints + GridPoints.len_phi_dot_grid//2\n",
    "    ypoints = ypoints + GridPoints.len_phi_grid//2\n",
    "    \n",
    "    \n",
    "\n",
    "    \n",
    "    \n",
    "    #test plotting orthogonal line\n",
    "#     xpoints_ortho = np.linspace(-0.178, 0.178,31)*20 #since scale is 0.4\n",
    "#     ypoints_ortho = xpoints_ortho*(.975/.223)*scale_multiplier\n",
    "    \n",
    "#     xpoints_ortho = xpoints_ortho + GridPoints.len_phi_dot_grid//2\n",
    "#     ypoints_ortho = ypoints_ortho + GridPoints.len_phi_grid//2\n",
    "    \n",
    "    #####\n",
    "    \n",
    "    \n",
    "    print(\"Success Graphs:\")\n",
    "    print(\"Red= failure, Green = success\")\n",
    "    for idx in range(n):\n",
    "        success_array = success_arrays[idx]\n",
    "        #print(np.shape(success_array))\n",
    "        \n",
    "        d_vals = d_vals_list[idx]\n",
    "        #define edges to plot basin of attraction\n",
    "        phi_offset = d_vals[2]\n",
    "        phi_dot_offset = d_vals[1]\n",
    "        x_boundry_upper = xpoints - phi_dot_offset*phi_dot_scale\n",
    "        y_boundry_upper = ypoints - phi_offset*phi_scale\n",
    "        \n",
    "        success_array = np.concatenate(\n",
    "            (np.flip(success_array[1:,:],axis = (0,1)),\n",
    "                     success_array[:,:]),\n",
    "             axis = 0)\n",
    "        #print(np.shape(success_array))       \n",
    "        #define colormap\n",
    "        cmap = colors.ListedColormap(['red','green'])\n",
    "        bounds = [-0.5,0.5 ,1.5]\n",
    "        norm= colors.BoundaryNorm(bounds, cmap.N)\n",
    "        \n",
    "        if idx==0:\n",
    "            difference_array += success_array\n",
    "        elif idx==1:\n",
    "            difference_array -= success_array\n",
    "        else:\n",
    "            print(\"** Difference Array not computed for index \" + str(idx))\n",
    "\n",
    "        ax1 = ax1s[idx]\n",
    "\n",
    "        max_phi = GridPoints.phi_grid[-1]\n",
    "        max_phi_dot = GridPoints.phi_dot_grid[-1]\n",
    "        im1 = ax1.imshow(success_array, cmap=cmap, norm = norm)\n",
    "                        #extent = [-max_phi_dot, max_phi_dot,\n",
    "                        #         -max_phi, max_phi] )\n",
    "        ax1.set_title(str(names[idx])+\" Basin of Attraction (delta = 0)\")\n",
    "        ax1.set_ylabel(\"lean [rad]\")\n",
    "        ax1.set_xlabel(\"lean rate [rad/s]\")\n",
    "        ax1.set_yticks(np.arange(GridPoints.len_phi_grid))\n",
    "        ax1.set_xticks(np.arange(GridPoints.len_phi_dot_grid))\n",
    "        ax1.set_yticklabels(np.around(GridPoints.phi_grid, decimals=2))\n",
    "        ax1.set_xticklabels(np.around(GridPoints.phi_dot_grid, decimals = 2))\n",
    "\n",
    "        ax1.plot(xpoints, ypoints, 'w')    \n",
    "        ax1.plot( x_boundry_upper,  y_boundry_upper,'c')\n",
    "#         ax1.plot(xpoints_ortho, ypoints_ortho, '.c')  \n",
    "        \n",
    "    fig2, ax2 = plt.subplots(1,1)\n",
    "    #plot differences\n",
    "    \n",
    "    print(\"Differences Graph: \")\n",
    "    colors_to_plot = ['yellow','white','purple']\n",
    "    print(colors_to_plot[0]+\": \"+names[1]+\" success only\")\n",
    "    print(colors_to_plot[1]+\": both controllers same\")\n",
    "    print(colors_to_plot[2]+\": \"+names[0]+\" success only\")\n",
    "    #define colormap\n",
    "    cmap = colors.ListedColormap(colors_to_plot)\n",
    "    bounds = [-1.5, -.5, .5 ,1.5]\n",
    "    norm= colors.BoundaryNorm(bounds, cmap.N)\n",
    "    \n",
    "    im2 = ax2.imshow(difference_array,cmap = cmap, norm=norm)\n",
    "    ax2.set_title(\" Difference between \" + str(names[0])+ \" and \" + str(names[1]))\n",
    "    ax2.set_ylabel(\"lean [rad]\")\n",
    "    ax2.set_xlabel(\"lean rate [rad/s]\")\n",
    "    ax2.set_yticks(np.arange(GridPoints.len_phi_grid))\n",
    "    ax2.set_xticks(np.arange(GridPoints.len_phi_dot_grid))\n",
    "    ax2.set_yticklabels(np.around(GridPoints.phi_grid, decimals=2))\n",
    "    ax2.set_xticklabels(np.around(GridPoints.phi_dot_grid, decimals = 2))\n",
    "    \n",
    "    ax2.plot(xpoints, ypoints, 'b')    \n",
    "        \n",
    "    plt.show()"
   ]
  },
  {
   "cell_type": "code",
   "execution_count": 6,
   "metadata": {},
   "outputs": [],
   "source": [
    "name1 = \"linear_0_5\"\n",
    "name2 = \"linear_0_25\"\n",
    "state_table_flag = 16.3"
   ]
  },
  {
   "cell_type": "code",
   "execution_count": 6,
   "metadata": {},
   "outputs": [
    {
     "name": "stdout",
     "output_type": "stream",
     "text": [
      "Using State Grid Flag 16.3\n",
      "calculating basis of attraction for controller linear_0_5\n",
      "phi: 0.0\n",
      "phi: 0.04\n",
      "phi: 0.08\n",
      "phi: 0.12\n",
      "phi: 0.16\n",
      "phi: 0.2\n",
      "phi: 0.24000000000000002\n",
      "phi: 0.27999999999999997\n",
      "phi: 0.32\n",
      "phi: 0.36\n",
      "phi: 0.39999999999999997\n",
      "phi: 0.44\n",
      "phi: 0.48\n",
      "phi: 0.52\n",
      "phi: 0.56\n",
      "phi: 0.6000000000000001\n",
      "phi: 0.64\n",
      "phi: 0.68\n",
      "phi: 0.7200000000000001\n",
      "phi: 0.76\n"
     ]
    }
   ],
   "source": [
    "#calc basin for 0.5m/s\n",
    "\n",
    "linear_0_5_SA = calc_basin_of_attraction(\n",
    "    controller = LinearController.LinearController(\n",
    "        getLQRGains(\"lqrd_0.5m_s\")),\n",
    "    name = name1, \n",
    "    state_table_flag = state_table_flag, \n",
    "    v = 0.5,\n",
    "    save = True)"
   ]
  },
  {
   "cell_type": "code",
   "execution_count": 7,
   "metadata": {},
   "outputs": [
    {
     "name": "stdout",
     "output_type": "stream",
     "text": [
      "Using State Grid Flag 16.3\n",
      "calculating basis of attraction for controller linear_0_25\n",
      "phi: 0.0\n",
      "phi: 0.04\n",
      "phi: 0.08\n",
      "phi: 0.12\n",
      "phi: 0.16\n",
      "phi: 0.2\n",
      "phi: 0.24000000000000002\n",
      "phi: 0.27999999999999997\n",
      "phi: 0.32\n",
      "phi: 0.36\n",
      "phi: 0.39999999999999997\n",
      "phi: 0.44\n",
      "phi: 0.48\n",
      "phi: 0.52\n",
      "phi: 0.56\n",
      "phi: 0.6000000000000001\n",
      "phi: 0.64\n",
      "phi: 0.68\n",
      "phi: 0.7200000000000001\n",
      "phi: 0.76\n"
     ]
    }
   ],
   "source": [
    "#calc basin for 0.25m/s\n",
    "\n",
    "linear_0_25_SA = calc_basin_of_attraction(\n",
    "    controller = LinearController.LinearController(\n",
    "        getLQRGains(\"lqrd_0.25m_s\")),\n",
    "    name = name2, \n",
    "    state_table_flag = state_table_flag, \n",
    "    v = 0.25,\n",
    "    save = True)"
   ]
  },
  {
   "cell_type": "code",
   "execution_count": null,
   "metadata": {},
   "outputs": [
    {
     "name": "stdout",
     "output_type": "stream",
     "text": [
      "Initializing VI model\n",
      "Using State Grid Flag 16\n",
      "Loading step_table modelsB/VI_r14_a1_s16_v0.5_100episodes.csv from file\n",
      "Initialized VI Model modelsB/VI_r14_a1_s16_v0.5_100episodes.csv in 183.30839371681213sec\n",
      "Using State Grid Flag 16.2\n",
      "calculating basis of attraction for controller VI_0_5\n",
      "phi: 0.0\n",
      "phi: 0.02\n",
      "phi: 0.04\n"
     ]
    }
   ],
   "source": [
    "v = 0.5\n",
    "\n",
    "#name = \"VI_r14_s6_a1\"\n",
    "#name = \"VI_r14_a1_s16_v1_50episodes\"\n",
    "# name = \"VI_r14_a1_s16_v0.5_100episodes\"\n",
    "name = \"VI_r14_a1_s16_v0.5_100episodes\"\n",
    "#name = \"VI_r14_a1_s16_v2_30episodes\"\n",
    "VI_model = ValueIteration(state_grid_flag = 16, action_grid_flag = 1,\n",
    "reward_flag = 14, Ufile = \"modelsB/\"+name, use_only_continuous_actions = False,\n",
    "remake_table = False, step_table_integration_method = \"fixed_step_RK4\",\n",
    "USE_LINEAR_EOM = False, name = name, timestep = 1/50, v = v)\n",
    "\n",
    "\n",
    "VI_model.init_controller(use_continuous_actions = True,\n",
    "  use_continuous_state_with_discrete_actions = True,\n",
    "  controller_integration_method = \"fixed_step_RK4\",\n",
    "  use_regression_model_of_table = False)\n",
    "''\n",
    "name3 = \"VI_0_5\"\n",
    "\n",
    "VI_0_5_SA = calc_basin_of_attraction(\n",
    "    controller = VI_model,\n",
    "    name = name3, \n",
    "    state_table_flag = state_table_flag, \n",
    "    v = v,\n",
    "    save = True)"
   ]
  },
  {
   "cell_type": "code",
   "execution_count": 7,
   "metadata": {},
   "outputs": [],
   "source": [
    "success_arrays_loaded = [load_basin(name1),load_basin(name2)]"
   ]
  },
  {
   "cell_type": "code",
   "execution_count": 29,
   "metadata": {},
   "outputs": [
    {
     "name": "stdout",
     "output_type": "stream",
     "text": [
      "Using State Grid Flag 16.3\n",
      "Success Graphs:\n",
      "Red= failure, Green = success\n",
      "Differences Graph: \n",
      "yellow: linear_0_25 success only\n",
      "white: both controllers same\n",
      "purple: linear_0_5 success only\n"
     ]
    },
    {
     "data": {
      "image/png": "[encoded data removed]",
      "text/plain": [
       "<Figure size 432x288 with 2 Axes>"
      ]
     },
     "metadata": {
      "needs_background": "light"
     },
     "output_type": "display_data"
    },
    {
     "data": {
      "image/png": "[encoded data removed]",
      "text/plain": [
       "<Figure size 432x288 with 1 Axes>"
      ]
     },
     "metadata": {
      "needs_background": "light"
     },
     "output_type": "display_data"
    }
   ],
   "source": [
    "#success_arrays_notloaded = [linear_0_5_SA, linear_0_25_SA]\n",
    "plot_basin_from_arrays(success_arrays = success_arrays_loaded ,\n",
    "                       names = [name1, name2], \n",
    "                       state_table_flag = state_table_flag)"
   ]
  },
  {
   "cell_type": "code",
   "execution_count": null,
   "metadata": {},
   "outputs": [],
   "source": []
  },
  {
   "cell_type": "code",
   "execution_count": null,
   "metadata": {},
   "outputs": [],
   "source": []
  }
 ],
 "metadata": {
  "kernelspec": {
   "display_name": "Python 3",
   "language": "python",
   "name": "python3"
  },
  "language_info": {
   "codemirror_mode": {
    "name": "ipython",
    "version": 3
   },
   "file_extension": ".py",
   "mimetype": "text/x-python",
   "name": "python",
   "nbconvert_exporter": "python",
   "pygments_lexer": "ipython3",
   "version": "3.6.6"
  }
 },
 "nbformat": 4,
 "nbformat_minor": 2
}
