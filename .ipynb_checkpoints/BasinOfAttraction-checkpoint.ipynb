{
 "cells": [
  {
   "cell_type": "code",
   "execution_count": null,
   "metadata": {},
   "outputs": [],
   "source": []
  },
  {
   "cell_type": "code",
   "execution_count": 1,
   "metadata": {},
   "outputs": [],
   "source": [
    "import LinearController\n",
    "from StateGridPoints import *\n",
    "from runBicycleTest import *\n",
    "import time\n",
    "from valueIteration import *\n",
    "from LinearController import getLQRGains\n",
    "from datetime import datetime\n",
    "from matplotlib import colors"
   ]
  },
  {
   "cell_type": "code",
   "execution_count": 6,
   "metadata": {},
   "outputs": [],
   "source": [
    "def calc_basin_of_attraction(controller, name, state_table_flag, v,\n",
    "                             save = True):\n",
    "    #state_table_flag is for the state table we will use to make the\n",
    "    # grid points (ie, the controller may have been trained on a \n",
    "    #different one, but it will be plotted on state_table_flag)\n",
    "    \n",
    "    GridPoints = StateGridPoints()\n",
    "    GridPoints.set_state_grid_points(state_table_flag)\n",
    "\n",
    "  #with delta = 0\n",
    "\n",
    "    phi_points, phi_dot_points,  delta_points = \\\n",
    "        np.meshgrid(GridPoints.phi_grid, GridPoints.phi_dot_grid,\n",
    "                    [0.0])\n",
    "    #if change delta from 0, think carefully about how\n",
    "    #to mirror the points when plotting it\n",
    "    \n",
    "    phi_and_phi_dot_points= np.rec.fromarrays([phi_points, \n",
    "                                               phi_dot_points,\n",
    "        delta_points], \n",
    "        names='phi_points,phi_dot_points, delta_points')\n",
    "    \n",
    "    print(\"calculating basis of attraction for controller \" +\n",
    "          name)\n",
    "    success_array = np.zeros((GridPoints.len_phi_half_grid,\n",
    "      GridPoints.len_phi_dot_grid))\n",
    "     \n",
    "    for (i, phi) in enumerate(GridPoints.phi_half_grid):\n",
    "\n",
    "        print(\"phi: \" + str(phi))\n",
    "        for (j, phi_dot) in enumerate(GridPoints.phi_dot_grid):\n",
    "\n",
    "            (success, _ ) = runBicycleTest(stateflag = None, \n",
    "                                           controller = controller,\n",
    "            name = \"\", reward_flag = 14, simulation_duration= 2.0,\n",
    "            isGraphing  = False, figObject = None, isPrinting = False,\n",
    "            integrator_method = \"fixed_step_RK4\",\n",
    "            USE_LINEAR_EOM = False, timestep = 1/50,\n",
    "            starting_state3 = [phi, phi_dot, 0.0],\n",
    "            v = v)\n",
    "\n",
    "            success_array[i,j] = success\n",
    "    \n",
    "    if save:\n",
    "        np.savetxt(\"BasinOfAttraction/\"+ name \n",
    "                   + \"_BasisOfAttraction.csv\", success_array,\n",
    "           delimiter = \",\")\n",
    "\n",
    "    \n",
    "    return success_array"
   ]
  },
  {
   "cell_type": "code",
   "execution_count": 3,
   "metadata": {},
   "outputs": [],
   "source": [
    "def load_basin(name):\n",
    "    success_array = np.loadtxt(\"BasinOfAttraction/\"+ name \n",
    "                   + \"_BasisOfAttraction.csv\",\n",
    "           delimiter = \",\")\n",
    "    return success_array"
   ]
  },
  {
   "cell_type": "code",
   "execution_count": 51,
   "metadata": {},
   "outputs": [],
   "source": [
    "def plot_basin_from_arrays(success_arrays, names, state_table_flag):\n",
    "    #success_arrays is a list of arrays of successes each generated\n",
    "    #with a call to 'calc_basin_of_attraction'\n",
    "    n = len(success_arrays)\n",
    "    fig1, ax1s = plt.subplots(1,n)\n",
    "    \n",
    "    GridPoints = StateGridPoints()\n",
    "    GridPoints.set_state_grid_points(state_table_flag)\n",
    "    \n",
    "   \n",
    "    \n",
    "    difference_array = np.zeros((GridPoints.len_phi_grid, GridPoints.len_phi_dot_grid))\n",
    "    \n",
    "    ##### get line of constant energy? to plot (eigvector of A)\n",
    "    xpoints = np.linspace(-GridPoints.len_phi_dot_grid//2, \n",
    "                          GridPoints.len_phi_dot_grid//2,11)\n",
    "    \n",
    "    ypoints = xpoints*(-0.223/0.975)*(\n",
    "        2) #scale by 2 since phi_dot grid has 2x the spacing of phi grid\n",
    "    #magic numbers from eigenvector of A w/ negative eigenvalue\n",
    "#     ypoints = np.interp(ypoints_unscaled, \n",
    "#            (ypoints_unscaled.min(), ypoints_unscaled.max()),\n",
    "#            (GridPoints.len_phi_half_grid*-1, \n",
    "#             GridPoints.len_phi_half_grid))\n",
    "    \n",
    "    #more origin to center\n",
    "    xpoints = xpoints + GridPoints.len_phi_dot_grid//2\n",
    "    ypoints = ypoints + GridPoints.len_phi_grid//2\n",
    "    #####\n",
    "    \n",
    "    \n",
    "    print(\"Success Graphs:\")\n",
    "    print(\"Red= failure, Green = success\")\n",
    "    for idx in range(n):\n",
    "        success_array = success_arrays[idx]\n",
    "        #print(np.shape(success_array))\n",
    "        \n",
    "        success_array = np.concatenate(\n",
    "            (np.flip(success_array[1:,:],axis = (0,1)),\n",
    "                     success_array[:,:]),\n",
    "             axis = 0)\n",
    "        #print(np.shape(success_array))       \n",
    "        #define colormap\n",
    "        cmap = colors.ListedColormap(['red','green'])\n",
    "        bounds = [-0.5,0.5 ,1.5]\n",
    "        norm= colors.BoundaryNorm(bounds, cmap.N)\n",
    "        \n",
    "        if idx==0:\n",
    "            difference_array += success_array\n",
    "        elif idx==1:\n",
    "            difference_array -= success_array\n",
    "        else:\n",
    "            print(\"** Difference Array not computed for index \" + str(idx))\n",
    "\n",
    "        ax1 = ax1s[idx]\n",
    "\n",
    "        max_phi = GridPoints.phi_grid[-1]\n",
    "        max_phi_dot = GridPoints.phi_dot_grid[-1]\n",
    "        im1 = ax1.imshow(success_array, cmap=cmap, norm = norm)\n",
    "                        #extent = [-max_phi_dot, max_phi_dot,\n",
    "                        #         -max_phi, max_phi] )\n",
    "        ax1.set_title(str(names[idx])+\" Basin of Attraction (delta = 0)\")\n",
    "        ax1.set_ylabel(\"lean [rad]\")\n",
    "        ax1.set_xlabel(\"lean rate [rad/s]\")\n",
    "        ax1.set_yticks(np.arange(GridPoints.len_phi_grid))\n",
    "        ax1.set_xticks(np.arange(GridPoints.len_phi_dot_grid))\n",
    "        ax1.set_yticklabels(np.around(GridPoints.phi_grid, decimals=2))\n",
    "        ax1.set_xticklabels(np.around(GridPoints.phi_dot_grid, decimals = 2))\n",
    "\n",
    "        ax1.plot(xpoints, ypoints, 'w')    \n",
    "        \n",
    "    fig2, ax2 = plt.subplots(1,1)\n",
    "    #plot differences\n",
    "    \n",
    "    print(\"Differences Graph: \")\n",
    "    colors_to_plot = ['yellow','white','purple']\n",
    "    print(colors_to_plot[0]+\": \"+names[1]+\" success only\")\n",
    "    print(colors_to_plot[1]+\": both controllers same\")\n",
    "    print(colors_to_plot[2]+\": \"+names[0]+\" success only\")\n",
    "    #define colormap\n",
    "    cmap = colors.ListedColormap(colors_to_plot)\n",
    "    bounds = [-1.5, -.5, .5 ,1.5]\n",
    "    norm= colors.BoundaryNorm(bounds, cmap.N)\n",
    "    \n",
    "    im2 = ax2.imshow(difference_array,cmap = cmap, norm=norm)\n",
    "    ax2.set_title(\" Difference between \" + str(names[0])+ \" and \" + str(names[1]))\n",
    "    ax2.set_ylabel(\"lean [rad]\")\n",
    "    ax2.set_xlabel(\"lean rate [rad/s]\")\n",
    "    ax2.set_yticks(np.arange(GridPoints.len_phi_grid))\n",
    "    ax2.set_xticks(np.arange(GridPoints.len_phi_dot_grid))\n",
    "    ax2.set_yticklabels(np.around(GridPoints.phi_grid, decimals=2))\n",
    "    ax2.set_xticklabels(np.around(GridPoints.phi_dot_grid, decimals = 2))\n",
    "    \n",
    "    ax2.plot(xpoints, ypoints, 'b')    \n",
    "        \n",
    "    plt.show()"
   ]
  },
  {
   "cell_type": "code",
   "execution_count": 23,
   "metadata": {},
   "outputs": [
    {
     "name": "stdout",
     "output_type": "stream",
     "text": [
      "Using State Grid Flag 16.2\n",
      "calculating basis of attraction for controller linear_0_5\n",
      "phi: 0.0\n",
      "phi: 0.02\n",
      "phi: 0.04\n",
      "phi: 0.06\n",
      "phi: 0.08\n",
      "phi: 0.1\n",
      "phi: 0.12000000000000001\n",
      "phi: 0.13999999999999999\n",
      "phi: 0.16\n",
      "phi: 0.18\n",
      "phi: 0.19999999999999998\n",
      "phi: 0.22\n",
      "phi: 0.24\n",
      "phi: 0.26\n",
      "phi: 0.28\n",
      "phi: 0.30000000000000004\n",
      "phi: 0.32\n",
      "phi: 0.34\n",
      "phi: 0.36000000000000004\n",
      "phi: 0.38\n",
      "phi: 0.4\n",
      "phi: 0.42000000000000004\n",
      "phi: 0.44\n",
      "phi: 0.46\n",
      "phi: 0.48000000000000004\n",
      "phi: 0.5\n",
      "phi: 0.52\n",
      "phi: 0.54\n",
      "phi: 0.56\n",
      "phi: 0.5800000000000001\n",
      "phi: 0.6\n",
      "phi: 0.62\n",
      "phi: 0.64\n",
      "phi: 0.66\n",
      "phi: 0.68\n",
      "phi: 0.7000000000000001\n",
      "phi: 0.7200000000000001\n",
      "phi: 0.74\n",
      "phi: 0.76\n",
      "phi: 0.78\n"
     ]
    }
   ],
   "source": [
    "#calc basin for 0.5m/s\n",
    "name1 = \"linear_0_5\"\n",
    "linear_0_5_SA = calc_basin_of_attraction(\n",
    "    controller = LinearController.LinearController(\n",
    "        getLQRGains(\"lqrd_0.5m_s\")),\n",
    "    name = name1, \n",
    "    state_table_flag = 16.2, \n",
    "    v = 0.5,\n",
    "    save = True)"
   ]
  },
  {
   "cell_type": "code",
   "execution_count": 24,
   "metadata": {},
   "outputs": [
    {
     "name": "stdout",
     "output_type": "stream",
     "text": [
      "Using State Grid Flag 16.2\n",
      "calculating basis of attraction for controller linear_0_25\n",
      "phi: 0.0\n",
      "phi: 0.02\n",
      "phi: 0.04\n",
      "phi: 0.06\n",
      "phi: 0.08\n",
      "phi: 0.1\n",
      "phi: 0.12000000000000001\n",
      "phi: 0.13999999999999999\n",
      "phi: 0.16\n",
      "phi: 0.18\n",
      "phi: 0.19999999999999998\n",
      "phi: 0.22\n",
      "phi: 0.24\n",
      "phi: 0.26\n",
      "phi: 0.28\n",
      "phi: 0.30000000000000004\n",
      "phi: 0.32\n",
      "phi: 0.34\n",
      "phi: 0.36000000000000004\n",
      "phi: 0.38\n",
      "phi: 0.4\n",
      "phi: 0.42000000000000004\n",
      "phi: 0.44\n",
      "phi: 0.46\n",
      "phi: 0.48000000000000004\n",
      "phi: 0.5\n",
      "phi: 0.52\n",
      "phi: 0.54\n",
      "phi: 0.56\n",
      "phi: 0.5800000000000001\n",
      "phi: 0.6\n",
      "phi: 0.62\n",
      "phi: 0.64\n",
      "phi: 0.66\n",
      "phi: 0.68\n",
      "phi: 0.7000000000000001\n",
      "phi: 0.7200000000000001\n",
      "phi: 0.74\n",
      "phi: 0.76\n",
      "phi: 0.78\n"
     ]
    }
   ],
   "source": [
    "#calc basin for 0.25m/s\n",
    "name2 = \"linear_0_25\"\n",
    "linear_0_25_SA = calc_basin_of_attraction(\n",
    "    controller = LinearController.LinearController(\n",
    "        getLQRGains(\"lqrd_0.25m_s\")),\n",
    "    name = name2, \n",
    "    state_table_flag = 16.2, \n",
    "    v = 0.25,\n",
    "    save = True)"
   ]
  },
  {
   "cell_type": "code",
   "execution_count": 36,
   "metadata": {},
   "outputs": [
    {
     "name": "stdout",
     "output_type": "stream",
     "text": [
      "Initializing VI model\n",
      "Using State Grid Flag 16\n",
      "Loading step_table modelsB/VI_r14_a1_s16_v0.5_100episodes.csv from file\n"
     ]
    },
    {
     "ename": "KeyboardInterrupt",
     "evalue": "",
     "output_type": "error",
     "traceback": [
      "\u001b[1;31m---------------------------------------------------------------------------\u001b[0m",
      "\u001b[1;31mKeyboardInterrupt\u001b[0m                         Traceback (most recent call last)",
      "\u001b[1;32m<ipython-input-36-7cdad1e25d90>\u001b[0m in \u001b[0;36m<module>\u001b[1;34m\u001b[0m\n\u001b[0;32m      9\u001b[0m \u001b[0mreward_flag\u001b[0m \u001b[1;33m=\u001b[0m \u001b[1;36m14\u001b[0m\u001b[1;33m,\u001b[0m \u001b[0mUfile\u001b[0m \u001b[1;33m=\u001b[0m \u001b[1;34m\"modelsB/\"\u001b[0m\u001b[1;33m+\u001b[0m\u001b[0mname\u001b[0m\u001b[1;33m,\u001b[0m \u001b[0muse_only_continuous_actions\u001b[0m \u001b[1;33m=\u001b[0m \u001b[1;32mFalse\u001b[0m\u001b[1;33m,\u001b[0m\u001b[1;33m\u001b[0m\u001b[0m\n\u001b[0;32m     10\u001b[0m \u001b[0mremake_table\u001b[0m \u001b[1;33m=\u001b[0m \u001b[1;32mFalse\u001b[0m\u001b[1;33m,\u001b[0m \u001b[0mstep_table_integration_method\u001b[0m \u001b[1;33m=\u001b[0m \u001b[1;34m\"fixed_step_RK4\"\u001b[0m\u001b[1;33m,\u001b[0m\u001b[1;33m\u001b[0m\u001b[0m\n\u001b[1;32m---> 11\u001b[1;33m USE_LINEAR_EOM = False, name = name, timestep = 1/50, v = v)\n\u001b[0m\u001b[0;32m     12\u001b[0m \u001b[1;33m\u001b[0m\u001b[0m\n\u001b[0;32m     13\u001b[0m \u001b[1;33m\u001b[0m\u001b[0m\n",
      "\u001b[1;32m~\\OneDrive\\Documents\\BikeResearch\\Bike\\valueIteration.py\u001b[0m in \u001b[0;36m__init__\u001b[1;34m(self, state_grid_flag, action_grid_flag, reward_flag, Ufile, use_only_continuous_actions, step_table_integration_method, remake_table, USE_LINEAR_EOM, name, timestep, v)\u001b[0m\n\u001b[0;32m     54\u001b[0m     \u001b[1;32mif\u001b[0m \u001b[1;32mnot\u001b[0m \u001b[0muse_only_continuous_actions\u001b[0m\u001b[1;33m:\u001b[0m\u001b[1;33m\u001b[0m\u001b[0m\n\u001b[0;32m     55\u001b[0m       self.setup_step_table(reward_flag, remake_table, step_table_integration_method,\n\u001b[1;32m---> 56\u001b[1;33m         v = v)\n\u001b[0m\u001b[0;32m     57\u001b[0m \u001b[1;33m\u001b[0m\u001b[0m\n\u001b[0;32m     58\u001b[0m \u001b[1;33m\u001b[0m\u001b[0m\n",
      "\u001b[1;32m~\\OneDrive\\Documents\\BikeResearch\\Bike\\tableBased.py\u001b[0m in \u001b[0;36msetup_step_table\u001b[1;34m(self, reward_flag, remake_table, step_table_integration_method, v)\u001b[0m\n\u001b[0;32m     92\u001b[0m       \u001b[0mprint\u001b[0m\u001b[1;33m(\u001b[0m\u001b[1;34m\"Loading step_table {} from file\"\u001b[0m\u001b[1;33m.\u001b[0m\u001b[0mformat\u001b[0m\u001b[1;33m(\u001b[0m\u001b[0mself\u001b[0m\u001b[1;33m.\u001b[0m\u001b[0mUfile\u001b[0m\u001b[1;33m)\u001b[0m\u001b[1;33m)\u001b[0m\u001b[1;33m\u001b[0m\u001b[0m\n\u001b[0;32m     93\u001b[0m \u001b[1;33m\u001b[0m\u001b[0m\n\u001b[1;32m---> 94\u001b[1;33m       \u001b[0msaved_step_table\u001b[0m \u001b[1;33m=\u001b[0m \u001b[0mnp\u001b[0m\u001b[1;33m.\u001b[0m\u001b[0mgenfromtxt\u001b[0m\u001b[1;33m(\u001b[0m\u001b[0mself\u001b[0m\u001b[1;33m.\u001b[0m\u001b[0mstep_table_file\u001b[0m\u001b[1;33m,\u001b[0m \u001b[0mdelimiter\u001b[0m \u001b[1;33m=\u001b[0m \u001b[1;34m\",\"\u001b[0m\u001b[1;33m)\u001b[0m\u001b[1;33m\u001b[0m\u001b[0m\n\u001b[0m\u001b[0;32m     95\u001b[0m       self.step_table = saved_step_table.reshape(self.len_phi_grid,\n\u001b[0;32m     96\u001b[0m         self.len_phi_dot_grid, self.len_delta_grid, self.num_actions,3)\n",
      "\u001b[1;32m~\\Miniconda3\\lib\\site-packages\\numpy\\lib\\npyio.py\u001b[0m in \u001b[0;36mgenfromtxt\u001b[1;34m(fname, dtype, comments, delimiter, skip_header, skip_footer, converters, missing_values, filling_values, usecols, names, excludelist, deletechars, replace_space, autostrip, case_sensitive, defaultfmt, unpack, usemask, loose, invalid_raise, max_rows, encoding)\u001b[0m\n\u001b[0;32m   1961\u001b[0m \u001b[1;33m\u001b[0m\u001b[0m\n\u001b[0;32m   1962\u001b[0m     \u001b[1;31m# Parse each line\u001b[0m\u001b[1;33m\u001b[0m\u001b[1;33m\u001b[0m\u001b[0m\n\u001b[1;32m-> 1963\u001b[1;33m     \u001b[1;32mfor\u001b[0m \u001b[1;33m(\u001b[0m\u001b[0mi\u001b[0m\u001b[1;33m,\u001b[0m \u001b[0mline\u001b[0m\u001b[1;33m)\u001b[0m \u001b[1;32min\u001b[0m \u001b[0menumerate\u001b[0m\u001b[1;33m(\u001b[0m\u001b[0mitertools\u001b[0m\u001b[1;33m.\u001b[0m\u001b[0mchain\u001b[0m\u001b[1;33m(\u001b[0m\u001b[1;33m[\u001b[0m\u001b[0mfirst_line\u001b[0m\u001b[1;33m,\u001b[0m \u001b[1;33m]\u001b[0m\u001b[1;33m,\u001b[0m \u001b[0mfhd\u001b[0m\u001b[1;33m)\u001b[0m\u001b[1;33m)\u001b[0m\u001b[1;33m:\u001b[0m\u001b[1;33m\u001b[0m\u001b[0m\n\u001b[0m\u001b[0;32m   1964\u001b[0m         \u001b[0mvalues\u001b[0m \u001b[1;33m=\u001b[0m \u001b[0msplit_line\u001b[0m\u001b[1;33m(\u001b[0m\u001b[0mline\u001b[0m\u001b[1;33m)\u001b[0m\u001b[1;33m\u001b[0m\u001b[0m\n\u001b[0;32m   1965\u001b[0m         \u001b[0mnbvalues\u001b[0m \u001b[1;33m=\u001b[0m \u001b[0mlen\u001b[0m\u001b[1;33m(\u001b[0m\u001b[0mvalues\u001b[0m\u001b[1;33m)\u001b[0m\u001b[1;33m\u001b[0m\u001b[0m\n",
      "\u001b[1;32m~\\Miniconda3\\lib\\encodings\\cp1252.py\u001b[0m in \u001b[0;36mdecode\u001b[1;34m(self, input, final)\u001b[0m\n\u001b[0;32m     20\u001b[0m \u001b[1;33m\u001b[0m\u001b[0m\n\u001b[0;32m     21\u001b[0m \u001b[1;32mclass\u001b[0m \u001b[0mIncrementalDecoder\u001b[0m\u001b[1;33m(\u001b[0m\u001b[0mcodecs\u001b[0m\u001b[1;33m.\u001b[0m\u001b[0mIncrementalDecoder\u001b[0m\u001b[1;33m)\u001b[0m\u001b[1;33m:\u001b[0m\u001b[1;33m\u001b[0m\u001b[0m\n\u001b[1;32m---> 22\u001b[1;33m     \u001b[1;32mdef\u001b[0m \u001b[0mdecode\u001b[0m\u001b[1;33m(\u001b[0m\u001b[0mself\u001b[0m\u001b[1;33m,\u001b[0m \u001b[0minput\u001b[0m\u001b[1;33m,\u001b[0m \u001b[0mfinal\u001b[0m\u001b[1;33m=\u001b[0m\u001b[1;32mFalse\u001b[0m\u001b[1;33m)\u001b[0m\u001b[1;33m:\u001b[0m\u001b[1;33m\u001b[0m\u001b[0m\n\u001b[0m\u001b[0;32m     23\u001b[0m         \u001b[1;32mreturn\u001b[0m \u001b[0mcodecs\u001b[0m\u001b[1;33m.\u001b[0m\u001b[0mcharmap_decode\u001b[0m\u001b[1;33m(\u001b[0m\u001b[0minput\u001b[0m\u001b[1;33m,\u001b[0m\u001b[0mself\u001b[0m\u001b[1;33m.\u001b[0m\u001b[0merrors\u001b[0m\u001b[1;33m,\u001b[0m\u001b[0mdecoding_table\u001b[0m\u001b[1;33m)\u001b[0m\u001b[1;33m[\u001b[0m\u001b[1;36m0\u001b[0m\u001b[1;33m]\u001b[0m\u001b[1;33m\u001b[0m\u001b[0m\n\u001b[0;32m     24\u001b[0m \u001b[1;33m\u001b[0m\u001b[0m\n",
      "\u001b[1;31mKeyboardInterrupt\u001b[0m: "
     ]
    }
   ],
   "source": [
    "v = 0.5\n",
    "\n",
    "#name = \"VI_r14_s6_a1\"\n",
    "#name = \"VI_r14_a1_s16_v1_50episodes\"\n",
    "# name = \"VI_r14_a1_s16_v0.5_100episodes\"\n",
    "name = \"VI_r14_a1_s16_v0.5_100episodes\"\n",
    "#name = \"VI_r14_a1_s16_v2_30episodes\"\n",
    "VI_model = ValueIteration(state_grid_flag = 16, action_grid_flag = 1,\n",
    "reward_flag = 14, Ufile = \"modelsB/\"+name, use_only_continuous_actions = False,\n",
    "remake_table = False, step_table_integration_method = \"fixed_step_RK4\",\n",
    "USE_LINEAR_EOM = False, name = name, timestep = 1/50, v = v)\n",
    "\n",
    "\n",
    "VI_model.init_controller(use_continuous_actions = True,\n",
    "  use_continuous_state_with_discrete_actions = True,\n",
    "  controller_integration_method = \"fixed_step_RK4\",\n",
    "  use_regression_model_of_table = False)\n",
    "\n",
    "name3 = \"VI_0_5\"\n",
    "\n",
    "VI_0_5_SA = calc_basin_of_attraction(\n",
    "    controller = VI_model,\n",
    "    name = name3, \n",
    "    state_table_flag = 16.2, \n",
    "    v = v,\n",
    "    save = True)"
   ]
  },
  {
   "cell_type": "code",
   "execution_count": 66,
   "metadata": {},
   "outputs": [],
   "source": [
    "success_arrays_loaded = [load_basin(name1),load_basin(name3)]"
   ]
  },
  {
   "cell_type": "code",
   "execution_count": 52,
   "metadata": {},
   "outputs": [
    {
     "name": "stdout",
     "output_type": "stream",
     "text": [
      "Using State Grid Flag 16.2\n",
      "Success Graphs:\n",
      "Red= failure, Green = success\n",
      "Differences Graph: \n",
      "yellow: linear_0_25 success only\n",
      "white: both controllers same\n",
      "purple: linear_0_5 success only\n"
     ]
    },
    {
     "data": {
      "image/png": "[encoded data removed]",
      "text/plain": [
       "<Figure size 432x288 with 2 Axes>"
      ]
     },
     "metadata": {
      "needs_background": "light"
     },
     "output_type": "display_data"
    },
    {
     "data": {
      "image/png": "[encoded data removed]",
      "text/plain": [
       "<Figure size 432x288 with 1 Axes>"
      ]
     },
     "metadata": {
      "needs_background": "light"
     },
     "output_type": "display_data"
    }
   ],
   "source": [
    "success_arrays_notloaded = [linear_0_5_SA, linear_0_25_SA]\n",
    "plot_basin_from_arrays(success_arrays = success_arrays_notloaded ,\n",
    "                       names = [name1, name2], \n",
    "                       state_table_flag = 16.2)"
   ]
  },
  {
   "cell_type": "code",
   "execution_count": null,
   "metadata": {},
   "outputs": [],
   "source": []
  },
  {
   "cell_type": "code",
   "execution_count": null,
   "metadata": {},
   "outputs": [],
   "source": []
  }
 ],
 "metadata": {
  "kernelspec": {
   "display_name": "Python 3",
   "language": "python",
   "name": "python3"
  },
  "language_info": {
   "codemirror_mode": {
    "name": "ipython",
    "version": 3
   },
   "file_extension": ".py",
   "mimetype": "text/x-python",
   "name": "python",
   "nbconvert_exporter": "python",
   "pygments_lexer": "ipython3",
   "version": "3.6.6"
  }
 },
 "nbformat": 4,
 "nbformat_minor": 2
}
